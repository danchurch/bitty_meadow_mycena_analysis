{
 "cells": [
  {
   "cell_type": "markdown",
   "metadata": {},
   "source": [
    "# Meadow analysis"
   ]
  },
  {
   "cell_type": "markdown",
   "metadata": {},
   "source": [
    "So now we have 15 sets of points representing mushrooms from our plots and 15 accompanying sets of polygons representing grass tufts. How do we test the hypothesis that they are spatially linked? "
   ]
  },
  {
   "cell_type": "markdown",
   "metadata": {},
   "source": [
    "## Table of contents:"
   ]
  },
  {
   "cell_type": "markdown",
   "metadata": {},
   "source": [
    "[Set up our R environment](#setup)"
   ]
  },
  {
   "cell_type": "markdown",
   "metadata": {},
   "source": [
    "[Finding distances to nearest grass-tuft neighbor of mushrooms](#findingdistances)"
   ]
  },
  {
   "cell_type": "markdown",
   "metadata": {},
   "source": [
    "[Simulations](#simulations)"
   ]
  },
  {
   "cell_type": "markdown",
   "metadata": {},
   "source": [
    "[Preparing real data for processing](#processing)"
   ]
  },
  {
   "cell_type": "markdown",
   "metadata": {},
   "source": [
    "[Visualize digitizations](#visualize)"
   ]
  },
  {
   "cell_type": "markdown",
   "metadata": {},
   "source": [
    "[Significance testing of real plots](#significance)"
   ]
  },
  {
   "cell_type": "markdown",
   "metadata": {},
   "source": [
    "<a id='setup'></a>"
   ]
  },
  {
   "cell_type": "markdown",
   "metadata": {},
   "source": [
    "### Set up our R environment"
   ]
  },
  {
   "cell_type": "markdown",
   "metadata": {},
   "source": [
    "packages:"
   ]
  },
  {
   "cell_type": "code",
   "execution_count": 1,
   "metadata": {
    "collapsed": false
   },
   "outputs": [
    {
     "name": "stderr",
     "output_type": "stream",
     "text": [
      "Checking rgeos availability: TRUE\n",
      "rgeos version: 0.3-19, (SVN revision 524)\n",
      " GEOS runtime version: 3.4.2-CAPI-1.8.2 r3921 \n",
      " Linking to sp version: 1.2-3 \n",
      " Polygon checking: TRUE \n",
      "\n"
     ]
    }
   ],
   "source": [
    "library('png')\n",
    "library('sp')\n",
    "library('maptools')\n",
    "library('rgeos')\n",
    "library('repr')"
   ]
  },
  {
   "cell_type": "code",
   "execution_count": 9,
   "metadata": {
    "collapsed": true
   },
   "outputs": [],
   "source": [
    "setwd(\"/home/daniel/Documents/Bitty_meadow_analysis/analysis\")"
   ]
  },
  {
   "cell_type": "markdown",
   "metadata": {},
   "source": [
    "load our function for digitizing grasses, \"digpol()\""
   ]
  },
  {
   "cell_type": "code",
   "execution_count": 16,
   "metadata": {
    "collapsed": false
   },
   "outputs": [],
   "source": [
    "source('digpols.R')"
   ]
  },
  {
   "cell_type": "markdown",
   "metadata": {},
   "source": [
    "Which, by the way, looks like this:"
   ]
  },
  {
   "cell_type": "code",
   "execution_count": 18,
   "metadata": {
    "collapsed": false
   },
   "outputs": [
    {
     "data": {
      "text/html": [
       "<pre class=language-r><code>function () \n",
       "{\n",
       "    require(\"sp\")\n",
       "    iter &lt;- 1\n",
       "    an &lt;- \"y\"\n",
       "    grasspols &lt;- NULL\n",
       "    allpols &lt;- list()\n",
       "    while (an != \"n\") {\n",
       "        grass &lt;- locator()\n",
       "        grasspols &lt;- Polygon(rbind(cbind(grass$x, grass$y), cbind(grass$x[1], \n",
       "            grass$y[1])))\n",
       "        bb &lt;- Polygons(list(grasspols), ID = paste(\"grass\", iter, \n",
       "            sep = \"\"))\n",
       "        allpols[[iter]] &lt;- bb\n",
       "        plot(SpatialPolygons(allpols), lwd = 2, add = TRUE)\n",
       "        an &lt;- readline(prompt = \"Another(y/n)? \")\n",
       "        if (an == \"y\") {\n",
       "            iter &lt;- iter + 1\n",
       "        }\n",
       "        else {\n",
       "            break\n",
       "        }\n",
       "    }\n",
       "    cc &lt;- SpatialPolygons(allpols)\n",
       "    return(cc)\n",
       "}</code></pre>"
      ],
      "text/latex": [
       "\\begin{minted}{r}\n",
       "function () \n",
       "\\{\n",
       "    require(\"sp\")\n",
       "    iter <- 1\n",
       "    an <- \"y\"\n",
       "    grasspols <- NULL\n",
       "    allpols <- list()\n",
       "    while (an != \"n\") \\{\n",
       "        grass <- locator()\n",
       "        grasspols <- Polygon(rbind(cbind(grass\\$x, grass\\$y), cbind(grass\\$x{[}1{]}, \n",
       "            grass\\$y{[}1{]})))\n",
       "        bb <- Polygons(list(grasspols), ID = paste(\"grass\", iter, \n",
       "            sep = \"\"))\n",
       "        allpols{[}{[}iter{]}{]} <- bb\n",
       "        plot(SpatialPolygons(allpols), lwd = 2, add = TRUE)\n",
       "        an <- readline(prompt = \"Another(y/n)? \")\n",
       "        if (an == \"y\") \\{\n",
       "            iter <- iter + 1\n",
       "        \\}\n",
       "        else \\{\n",
       "            break\n",
       "        \\}\n",
       "    \\}\n",
       "    cc <- SpatialPolygons(allpols)\n",
       "    return(cc)\n",
       "\\}\n",
       "\\end{minted}"
      ],
      "text/markdown": [
       "```r\n",
       "function () \n",
       "{\n",
       "    require(\"sp\")\n",
       "    iter <- 1\n",
       "    an <- \"y\"\n",
       "    grasspols <- NULL\n",
       "    allpols <- list()\n",
       "    while (an != \"n\") {\n",
       "        grass <- locator()\n",
       "        grasspols <- Polygon(rbind(cbind(grass$x, grass$y), cbind(grass$x[1], \n",
       "            grass$y[1])))\n",
       "        bb <- Polygons(list(grasspols), ID = paste(\"grass\", iter, \n",
       "            sep = \"\"))\n",
       "        allpols[[iter]] <- bb\n",
       "        plot(SpatialPolygons(allpols), lwd = 2, add = TRUE)\n",
       "        an <- readline(prompt = \"Another(y/n)? \")\n",
       "        if (an == \"y\") {\n",
       "            iter <- iter + 1\n",
       "        }\n",
       "        else {\n",
       "            break\n",
       "        }\n",
       "    }\n",
       "    cc <- SpatialPolygons(allpols)\n",
       "    return(cc)\n",
       "}\n",
       "```"
      ],
      "text/plain": [
       "function () \n",
       "{\n",
       "    require(\"sp\")\n",
       "    iter <- 1\n",
       "    an <- \"y\"\n",
       "    grasspols <- NULL\n",
       "    allpols <- list()\n",
       "    while (an != \"n\") {\n",
       "        grass <- locator()\n",
       "        grasspols <- Polygon(rbind(cbind(grass$x, grass$y), cbind(grass$x[1], \n",
       "            grass$y[1])))\n",
       "        bb <- Polygons(list(grasspols), ID = paste(\"grass\", iter, \n",
       "            sep = \"\"))\n",
       "        allpols[[iter]] <- bb\n",
       "        plot(SpatialPolygons(allpols), lwd = 2, add = TRUE)\n",
       "        an <- readline(prompt = \"Another(y/n)? \")\n",
       "        if (an == \"y\") {\n",
       "            iter <- iter + 1\n",
       "        }\n",
       "        else {\n",
       "            break\n",
       "        }\n",
       "    }\n",
       "    cc <- SpatialPolygons(allpols)\n",
       "    return(cc)\n",
       "}"
      ]
     },
     "metadata": {},
     "output_type": "display_data"
    }
   ],
   "source": [
    "digpols"
   ]
  },
  {
   "cell_type": "markdown",
   "metadata": {},
   "source": [
    "<a id='findingdistances'></a>"
   ]
  },
  {
   "cell_type": "markdown",
   "metadata": {},
   "source": [
    "## Finding distances to nearest grass-tuft neighbor of mushrooms"
   ]
  },
  {
   "cell_type": "markdown",
   "metadata": {},
   "source": [
    "One of our plots looks like this, after digitizing: "
   ]
  },
  {
   "cell_type": "markdown",
   "metadata": {},
   "source": [
    "<img src='p3_06_sample_pols_mush.png'>"
   ]
  },
  {
   "cell_type": "markdown",
   "metadata": {},
   "source": [
    "(The red triangles represent a mushroom or a cluster of mushrooms)"
   ]
  },
  {
   "cell_type": "markdown",
   "metadata": {},
   "source": [
    "Let's simplify things a bit, and just deal with a few imaginary grass tufts and a few imaginary mushrooms:"
   ]
  },
  {
   "cell_type": "code",
   "execution_count": 50,
   "metadata": {
    "collapsed": false
   },
   "outputs": [],
   "source": [
    "p <- SpatialPoints(cbind(c(25,5,70),c(25,45,70)))"
   ]
  },
  {
   "cell_type": "markdown",
   "metadata": {},
   "source": [
    "Use our digpols() function to draw some spatial polygons:"
   ]
  },
  {
   "cell_type": "code",
   "execution_count": 23,
   "metadata": {
    "collapsed": false
   },
   "outputs": [],
   "source": [
    "g <- digpols()"
   ]
  },
  {
   "cell_type": "markdown",
   "metadata": {},
   "source": [
    "What does this look like?"
   ]
  },
  {
   "cell_type": "code",
   "execution_count": 59,
   "metadata": {
    "collapsed": false
   },
   "outputs": [],
   "source": [
    "options(repr.plot.width = 5, repr.plot.height = 5) ## using repr to control size of R plotter outputs"
   ]
  },
  {
   "cell_type": "code",
   "execution_count": 82,
   "metadata": {
    "collapsed": false
   },
   "outputs": [],
   "source": [
    "plot(g, lwd = 2, xlim = c(0,100), ylim = c(0,100), col = 'green')\n",
    "plot(p, pch = 17, col = 'red', cex = 2, add = TRUE)\n",
    "axis(1, pos = 0)\n",
    "axis(2, pos = 0, at = c(0,100), labels = c('',''), lwd.ticks=0)\n",
    "axis(2, pos = 0, at=seq(0,100, by = 20), lwd=0, lwd.ticks=1)"
   ]
  },
  {
   "cell_type": "markdown",
   "metadata": {},
   "source": [
    "<img src='testplot1.png'>"
   ]
  },
  {
   "cell_type": "markdown",
   "metadata": {},
   "source": [
    "We need to know the distance to the nearest grass clump for each mushroom. We can get the distances using [gDistance()](https://cran.r-project.org/web/packages/rgeos/rgeos.pdf). Make sure to use the 'byid=TRUE' option:"
   ]
  },
  {
   "cell_type": "code",
   "execution_count": 61,
   "metadata": {
    "collapsed": false
   },
   "outputs": [
    {
     "data": {
      "text/html": [
       "<table>\n",
       "<thead><tr><th></th><th scope=col>grass1</th><th scope=col>grass2</th><th scope=col>grass3</th></tr></thead>\n",
       "<tbody>\n",
       "\t<tr><th scope=row>1</th><td>33.46681</td><td>55.24240</td><td>14.93716</td></tr>\n",
       "\t<tr><th scope=row>2</th><td>17.79230</td><td>63.68932</td><td>40.28856</td></tr>\n",
       "\t<tr><th scope=row>3</th><td>30.0747643</td><td> 0.1559771</td><td>58.5043044</td></tr>\n",
       "</tbody>\n",
       "</table>\n"
      ],
      "text/latex": [
       "\\begin{tabular}{r|lll}\n",
       "  & grass1 & grass2 & grass3\\\\\n",
       "\\hline\n",
       "\t1 & 33.46681 & 55.24240 & 14.93716\\\\\n",
       "\t2 & 17.79230 & 63.68932 & 40.28856\\\\\n",
       "\t3 & 30.0747643 &  0.1559771 & 58.5043044\\\\\n",
       "\\end{tabular}\n"
      ],
      "text/markdown": [
       "1. 33.4668081027298\n",
       "2. 17.7923042741783\n",
       "3. 30.0747642856223\n",
       "4. 55.2423974643016\n",
       "5. 63.6893197910421\n",
       "6. 0.155977050651207\n",
       "7. 14.9371590684131\n",
       "8. 40.2885573051716\n",
       "9. 58.5043044092022\n",
       "\n",
       "\n"
      ],
      "text/plain": [
       "    grass1     grass2   grass3\n",
       "1 33.46681 55.2423975 14.93716\n",
       "2 17.79230 63.6893198 40.28856\n",
       "3 30.07476  0.1559771 58.50430"
      ]
     },
     "metadata": {},
     "output_type": "display_data"
    }
   ],
   "source": [
    "dists <- gDistance(g, p, byid=TRUE); dists "
   ]
  },
  {
   "cell_type": "markdown",
   "metadata": {},
   "source": [
    "We can then find the minimums of each row, and average all of these to get a representative statistic for the distances between mushrooms and grasses, in this plot. "
   ]
  },
  {
   "cell_type": "code",
   "execution_count": 62,
   "metadata": {
    "collapsed": false
   },
   "outputs": [
    {
     "data": {
      "text/html": [
       "<dl class=dl-horizontal>\n",
       "\t<dt>1</dt>\n",
       "\t\t<dd>14.9371590684131</dd>\n",
       "\t<dt>2</dt>\n",
       "\t\t<dd>17.7923042741783</dd>\n",
       "\t<dt>3</dt>\n",
       "\t\t<dd>0.155977050651207</dd>\n",
       "</dl>\n"
      ],
      "text/latex": [
       "\\begin{description*}\n",
       "\\item[1] 14.9371590684131\n",
       "\\item[2] 17.7923042741783\n",
       "\\item[3] 0.155977050651207\n",
       "\\end{description*}\n"
      ],
      "text/markdown": [
       "1\n",
       ":   14.93715906841312\n",
       ":   17.79230427417833\n",
       ":   0.155977050651207\n",
       "\n"
      ],
      "text/plain": [
       "         1          2          3 \n",
       "14.9371591 17.7923043  0.1559771 "
      ]
     },
     "metadata": {},
     "output_type": "display_data"
    }
   ],
   "source": [
    "mindists <- apply(dists, MARGIN = 1, FUN = min)\n",
    "avgmindists <- mean(mindists)\n",
    "mindists"
   ]
  },
  {
   "cell_type": "code",
   "execution_count": 63,
   "metadata": {
    "collapsed": false
   },
   "outputs": [
    {
     "data": {
      "text/html": [
       "10.9618134644142"
      ],
      "text/latex": [
       "10.9618134644142"
      ],
      "text/markdown": [
       "10.9618134644142"
      ],
      "text/plain": [
       "[1] 10.96181"
      ]
     },
     "metadata": {},
     "output_type": "display_data"
    }
   ],
   "source": [
    "\n",
    "avgmindists"
   ]
  },
  {
   "cell_type": "markdown",
   "metadata": {},
   "source": [
    "In this plot, on average, the nearest grass clump is 10.96 cm away from any given mushroom. Let's condense this process into a function:"
   ]
  },
  {
   "cell_type": "code",
   "execution_count": 39,
   "metadata": {
    "collapsed": true
   },
   "outputs": [],
   "source": [
    "avgNN <- function(grasses, mushrooms) {\n",
    "        dists <- gDistance(grasses, mushrooms, byid=TRUE)\n",
    "        mindists <- apply(dists, MARGIN=1, min)\n",
    "        avgmindists <- mean(mindists)\n",
    "        return(avgmindists)}"
   ]
  },
  {
   "cell_type": "markdown",
   "metadata": {},
   "source": [
    "This will take our digitized mushroom and grass objects and tell us the average nearest neighbor distances between them:"
   ]
  },
  {
   "cell_type": "code",
   "execution_count": 66,
   "metadata": {
    "collapsed": false
   },
   "outputs": [
    {
     "data": {
      "text/html": [
       "10.9618134644142"
      ],
      "text/latex": [
       "10.9618134644142"
      ],
      "text/markdown": [
       "10.9618134644142"
      ],
      "text/plain": [
       "[1] 10.96181"
      ]
     },
     "metadata": {},
     "output_type": "display_data"
    }
   ],
   "source": [
    " avgNN(grasses=g, mushrooms=p) "
   ]
  },
  {
   "cell_type": "markdown",
   "metadata": {},
   "source": [
    "<a id='simulations'></a>"
   ]
  },
  {
   "cell_type": "markdown",
   "metadata": {},
   "source": [
    "## Simulations"
   ]
  },
  {
   "cell_type": "markdown",
   "metadata": {},
   "source": [
    "Now we test how often we get this distance or closer with the same spatial distribution of grass clumps, but with the same number of mushrooms, placed randomly over the plot. This is known as a \"Monte Carlo\" method of generating a probability distribution. To create a new set of spatially random mushroom events:"
   ]
  },
  {
   "cell_type": "code",
   "execution_count": null,
   "metadata": {
    "collapsed": true
   },
   "outputs": [],
   "source": [
    "yardstick = seq(from = 0, to = 100, by = 0.01)\n",
    "\n",
    "xx <- sample(yardstick, size = length(p))\n",
    "yy <- sample(yardstick, size = length(p))\n",
    "p.random <- SpatialPoints(cbind(xx,yy))"
   ]
  },
  {
   "cell_type": "markdown",
   "metadata": {},
   "source": [
    "We can condense turn this process into another function, that makes random sets of mushrooms of equal length to our actual mushrooms object:"
   ]
  },
  {
   "cell_type": "code",
   "execution_count": 38,
   "metadata": {
    "collapsed": true
   },
   "outputs": [],
   "source": [
    "mushrooms.random <- function(mushrooms){\n",
    "        yardstick <- seq(from = 0,to = 100, by = 0.01)\n",
    "        xx <- sample(yardstick, size = length(mushrooms))\n",
    "        yy <- sample(yardstick, size = length(mushrooms))\n",
    "        p.random <- SpatialPoints(cbind(xx,yy))\n",
    "        return(p.random)\n",
    "}"
   ]
  },
  {
   "cell_type": "markdown",
   "metadata": {},
   "source": [
    "Try it out:"
   ]
  },
  {
   "cell_type": "code",
   "execution_count": 74,
   "metadata": {
    "collapsed": true
   },
   "outputs": [],
   "source": [
    "p.random <- mushrooms.random(mushrooms=p)"
   ]
  },
  {
   "cell_type": "markdown",
   "metadata": {},
   "source": [
    "What do these look like?"
   ]
  },
  {
   "cell_type": "code",
   "execution_count": 84,
   "metadata": {
    "collapsed": false
   },
   "outputs": [],
   "source": [
    "plot(g, lwd = 2, xlim = c(0,100), ylim = c(0,100), col = 'green')\n",
    "plot(p, pch = 17, col = 'red', cex = 2, add = TRUE)\n",
    "axis(1, pos = 0)\n",
    "axis(2, pos = 0, at = c(0,100), labels = c('',''), lwd.ticks=0)\n",
    "axis(2, pos = 0, at=seq(0,100, by = 20), lwd=0, lwd.ticks=1)\n",
    "plot(p.random, add=TRUE, col = 'blue', pch = 20, cex = 2)"
   ]
  },
  {
   "cell_type": "markdown",
   "metadata": {},
   "source": [
    "<img src='testplot2.png'>"
   ]
  },
  {
   "cell_type": "markdown",
   "metadata": {},
   "source": [
    "(New, random mushrooms are blue dots)"
   ]
  },
  {
   "cell_type": "markdown",
   "metadata": {},
   "source": [
    "We can use our function from above to see the average distance between nearest mushrooms and grasses in this random set of mushrooms:"
   ]
  },
  {
   "cell_type": "code",
   "execution_count": 87,
   "metadata": {
    "collapsed": false
   },
   "outputs": [
    {
     "data": {
      "text/html": [
       "10.6663599651934"
      ],
      "text/latex": [
       "10.6663599651934"
      ],
      "text/markdown": [
       "10.6663599651934"
      ],
      "text/plain": [
       "[1] 10.66636"
      ]
     },
     "metadata": {},
     "output_type": "display_data"
    }
   ],
   "source": [
    "avgNN(grasses=g, mushrooms=p.random)"
   ]
  },
  {
   "cell_type": "markdown",
   "metadata": {},
   "source": [
    "So now we need to generate a lot of these random sets of mushrooms, and see how often they fall as close or closer to grasses. Do this with a function, with an output in the form of  probability seeing an observed average distance result or closer:"
   ]
  },
  {
   "cell_type": "code",
   "execution_count": 37,
   "metadata": {
    "collapsed": true
   },
   "outputs": [],
   "source": [
    "getpval <- function(grasses, mushrooms, iterations) {\n",
    "        avgNN.obs <- avgNN(grasses=grasses, mushrooms=mushrooms)\n",
    "        avgNN.ran <- NULL\n",
    "        for(i in 1:iterations){\n",
    "                avgNN.ran[i] <- avgNN(grasses=grasses, mushrooms = mushrooms.random(mushrooms=mushrooms))}\n",
    "        pval <- sum(avgNN.ran <= avgNN.obs)/ length(avgNN.ran)\n",
    "        return(pval)\n",
    "        }\n"
   ]
  },
  {
   "cell_type": "markdown",
   "metadata": {},
   "source": [
    "So for example, with the above set of grasses, mushrooms, and 5000 iterations: "
   ]
  },
  {
   "cell_type": "code",
   "execution_count": 81,
   "metadata": {
    "collapsed": false
   },
   "outputs": [
    {
     "data": {
      "text/html": [
       "0.5304"
      ],
      "text/latex": [
       "0.5304"
      ],
      "text/markdown": [
       "0.5304"
      ],
      "text/plain": [
       "[1] 0.5304"
      ]
     },
     "metadata": {},
     "output_type": "display_data"
    }
   ],
   "source": [
    "getpval(grasses=g,mushrooms=p,iterations=5000)"
   ]
  },
  {
   "cell_type": "markdown",
   "metadata": {},
   "source": [
    "If mushrooms are distributed completely spatially randomly, ~53% of the time we expect to see that mushrooms are as close to grasses as we observed, or closer.\n",
    "\n",
    "Now we repeat this for all of our actual digitized plots, correct for multiple tests (FDR/Benjamini-Hochberg), and see if a trend emerges."
   ]
  },
  {
   "cell_type": "markdown",
   "metadata": {},
   "source": [
    "<a id='processing'></a>"
   ]
  },
  {
   "cell_type": "markdown",
   "metadata": {
    "collapsed": true
   },
   "source": [
    "## Preparing real data for processing"
   ]
  },
  {
   "cell_type": "markdown",
   "metadata": {},
   "source": [
    "Now let's import Megan's digitizations of Bitty's photos. We'lle create a list of these and cycle through them to visualize them, and in the next section, calculate p-values as we did above with a simplified example. What follows is a whole mess of code that is probably not useful to anyone but me, for loading and managing a bunch of photo and R spatial data objects.."
   ]
  },
  {
   "cell_type": "code",
   "execution_count": 20,
   "metadata": {
    "collapsed": true
   },
   "outputs": [],
   "source": [
    "digitdir <- '/home/daniel/Documents/Bitty_meadow_analysis/Digitized_Files/' ## shapefiles live here.\n",
    "photolist <- system('ls /home/daniel/Documents/Bitty_meadow_analysis/photos_mod', intern=TRUE) ## photos that were digitized live here.\n",
    "shapes <- system(paste('ls',digitdir,sep=' '), intern = TRUE) ## a master list of R spatial data object files\n"
   ]
  },
  {
   "cell_type": "markdown",
   "metadata": {},
   "source": [
    "Just to be consistent, the shape files from one our photos was lost, 'T2N' seems to be lacking mushroom and grass shapefiles (sorry Megan!), so let's take this out of the photolist created above:"
   ]
  },
  {
   "cell_type": "code",
   "execution_count": 21,
   "metadata": {
    "collapsed": true
   },
   "outputs": [],
   "source": [
    "aa <- which(photolist == 'T2N.png')\n",
    "photolist <- photolist[-aa]"
   ]
  },
  {
   "cell_type": "markdown",
   "metadata": {},
   "source": [
    "Let's make a list of just the mushroom point files and just the grass polygon files:"
   ]
  },
  {
   "cell_type": "code",
   "execution_count": 22,
   "metadata": {
    "collapsed": true
   },
   "outputs": [],
   "source": [
    "shapes <- system(paste('ls',digitdir,sep=' '), intern = TRUE)\n",
    "mushfiles <- shapes[grep('mushpts', shapes)]\n",
    "grassfiles <-shapes[grep('grass', shapes)]"
   ]
  },
  {
   "cell_type": "markdown",
   "metadata": {},
   "source": [
    "The above code made a list in R out of our directory that contained the mushroom polygons\n",
    "and grass point files. We can then cycle through them and load all of these files into R. So we'll have all of the grass and mushroom digitized objects in our environment. First mushrooms:"
   ]
  },
  {
   "cell_type": "code",
   "execution_count": 10,
   "metadata": {
    "collapsed": false
   },
   "outputs": [],
   "source": [
    "for (i in 1: length(mushfiles)){\n",
    "load(paste(digitdir,mushfiles[i], sep = ''))\n",
    "}"
   ]
  },
  {
   "cell_type": "code",
   "execution_count": 11,
   "metadata": {
    "collapsed": false
   },
   "outputs": [
    {
     "data": {
      "text/html": [
       "<ol class=list-inline>\n",
       "\t<li>'digitdir'</li>\n",
       "\t<li>'grassfiles'</li>\n",
       "\t<li>'i'</li>\n",
       "\t<li>'mushfiles'</li>\n",
       "\t<li>'photolist'</li>\n",
       "\t<li>'shapes'</li>\n",
       "\t<li>'sp.mushpts_p3_01'</li>\n",
       "\t<li>'sp.mushpts_p3_02'</li>\n",
       "\t<li>'sp.mushpts_p3_03'</li>\n",
       "\t<li>'sp.mushpts_p3_04'</li>\n",
       "\t<li>'sp.mushpts_p3_05'</li>\n",
       "\t<li>'sp.mushpts_p3_06'</li>\n",
       "\t<li>'sp.mushpts_p3_07'</li>\n",
       "\t<li>'sp.mushpts_p3_08'</li>\n",
       "\t<li>'sp.mushpts_p3_09'</li>\n",
       "\t<li>'sp.mushpts_p3_10'</li>\n",
       "\t<li>'sp.mushpts_T1N'</li>\n",
       "\t<li>'sp.mushpts_T1S'</li>\n",
       "\t<li>'sp.mushpts_T2S'</li>\n",
       "\t<li>'sp.mushpts_T3N'</li>\n",
       "\t<li>'sp.mushpts_T3S'</li>\n",
       "</ol>\n"
      ],
      "text/latex": [
       "\\begin{enumerate*}\n",
       "\\item 'digitdir'\n",
       "\\item 'grassfiles'\n",
       "\\item 'i'\n",
       "\\item 'mushfiles'\n",
       "\\item 'photolist'\n",
       "\\item 'shapes'\n",
       "\\item 'sp.mushpts\\_p3\\_01'\n",
       "\\item 'sp.mushpts\\_p3\\_02'\n",
       "\\item 'sp.mushpts\\_p3\\_03'\n",
       "\\item 'sp.mushpts\\_p3\\_04'\n",
       "\\item 'sp.mushpts\\_p3\\_05'\n",
       "\\item 'sp.mushpts\\_p3\\_06'\n",
       "\\item 'sp.mushpts\\_p3\\_07'\n",
       "\\item 'sp.mushpts\\_p3\\_08'\n",
       "\\item 'sp.mushpts\\_p3\\_09'\n",
       "\\item 'sp.mushpts\\_p3\\_10'\n",
       "\\item 'sp.mushpts\\_T1N'\n",
       "\\item 'sp.mushpts\\_T1S'\n",
       "\\item 'sp.mushpts\\_T2S'\n",
       "\\item 'sp.mushpts\\_T3N'\n",
       "\\item 'sp.mushpts\\_T3S'\n",
       "\\end{enumerate*}\n"
      ],
      "text/markdown": [
       "1. 'digitdir'\n",
       "2. 'grassfiles'\n",
       "3. 'i'\n",
       "4. 'mushfiles'\n",
       "5. 'photolist'\n",
       "6. 'shapes'\n",
       "7. 'sp.mushpts_p3_01'\n",
       "8. 'sp.mushpts_p3_02'\n",
       "9. 'sp.mushpts_p3_03'\n",
       "10. 'sp.mushpts_p3_04'\n",
       "11. 'sp.mushpts_p3_05'\n",
       "12. 'sp.mushpts_p3_06'\n",
       "13. 'sp.mushpts_p3_07'\n",
       "14. 'sp.mushpts_p3_08'\n",
       "15. 'sp.mushpts_p3_09'\n",
       "16. 'sp.mushpts_p3_10'\n",
       "17. 'sp.mushpts_T1N'\n",
       "18. 'sp.mushpts_T1S'\n",
       "19. 'sp.mushpts_T2S'\n",
       "20. 'sp.mushpts_T3N'\n",
       "21. 'sp.mushpts_T3S'\n",
       "\n",
       "\n"
      ],
      "text/plain": [
       " [1] \"digitdir\"         \"grassfiles\"       \"i\"                \"mushfiles\"       \n",
       " [5] \"photolist\"        \"shapes\"           \"sp.mushpts_p3_01\" \"sp.mushpts_p3_02\"\n",
       " [9] \"sp.mushpts_p3_03\" \"sp.mushpts_p3_04\" \"sp.mushpts_p3_05\" \"sp.mushpts_p3_06\"\n",
       "[13] \"sp.mushpts_p3_07\" \"sp.mushpts_p3_08\" \"sp.mushpts_p3_09\" \"sp.mushpts_p3_10\"\n",
       "[17] \"sp.mushpts_T1N\"   \"sp.mushpts_T1S\"   \"sp.mushpts_T2S\"   \"sp.mushpts_T3N\"  \n",
       "[21] \"sp.mushpts_T3S\"  "
      ]
     },
     "metadata": {},
     "output_type": "display_data"
    }
   ],
   "source": [
    "ls()"
   ]
  },
  {
   "cell_type": "markdown",
   "metadata": {},
   "source": [
    "Put all of these into a list, manually. I know there must be a better way to do this, but the way that R pickles its files/objects makes importing data objects from files difficult for me. So:"
   ]
  },
  {
   "cell_type": "code",
   "execution_count": 12,
   "metadata": {
    "collapsed": true
   },
   "outputs": [],
   "source": [
    "mushpts <- c(sp.mushpts_p3_01, sp.mushpts_p3_02, sp.mushpts_p3_03, sp.mushpts_p3_04, sp.mushpts_p3_05, sp.mushpts_p3_06, sp.mushpts_p3_07, sp.mushpts_p3_08, sp.mushpts_p3_09, sp.mushpts_p3_10, sp.mushpts_T1N, sp.mushpts_T1S, sp.mushpts_T2S, sp.mushpts_T3N, sp.mushpts_T3S)"
   ]
  },
  {
   "cell_type": "markdown",
   "metadata": {},
   "source": [
    "Name the items in the list:"
   ]
  },
  {
   "cell_type": "code",
   "execution_count": 13,
   "metadata": {
    "collapsed": true
   },
   "outputs": [],
   "source": [
    "names(mushpts) <- c('p3_01', 'p3_02', 'p3_03', 'p3_04', 'p3_05', 'p3_06', 'p3_07', 'p3_08', 'p3_09', 'p3_10', 'T1N', 'T1S', 'T2S', 'T3N', 'T3S')"
   ]
  },
  {
   "cell_type": "markdown",
   "metadata": {},
   "source": [
    "This lets us refer to a given set of mushroom points by name, like this:"
   ]
  },
  {
   "cell_type": "code",
   "execution_count": 15,
   "metadata": {
    "collapsed": false
   },
   "outputs": [
    {
     "data": {
      "text/plain": [
       "SpatialPoints:\n",
       "      coords.x1 coords.x2\n",
       " [1,]  13.05524 43.180356\n",
       " [2,]  23.62859 24.126676\n",
       " [3,]  24.91610  8.577331\n",
       " [4,]  59.81307 38.531576\n",
       " [5,]  60.71696 47.834347\n",
       " [6,]  47.79781 75.009225\n",
       " [7,]  74.62096  2.446048\n",
       " [8,]  81.34476  5.848770\n",
       " [9,]  97.92762 72.551631\n",
       "[10,]  95.31981 87.045117\n",
       "Coordinate Reference System (CRS) arguments: NA "
      ]
     },
     "metadata": {},
     "output_type": "display_data"
    }
   ],
   "source": [
    "mushpts$T3S"
   ]
  },
  {
   "cell_type": "markdown",
   "metadata": {},
   "source": [
    "Do the same for the grass polygons:"
   ]
  },
  {
   "cell_type": "code",
   "execution_count": 16,
   "metadata": {
    "collapsed": true
   },
   "outputs": [],
   "source": [
    "for (i in 1: length(grassfiles)){\n",
    "load(paste(digitdir,grassfiles[i], sep = ''))\n",
    "}\n",
    "\n",
    "\n",
    "grasspols <- c(\n",
    "p3_01_grass, p3_02_grass, p3_03_grass, p3_04_grass, p3_05_grass,\n",
    "p3_06_grass, p3_07_grass, p3_08_grass, p3_09_grass, p3_10_grass,\n",
    "T1N_grass, T1S_grass, T2S_grass, T3N_grass, T3S_grass\n",
    ")\n",
    "\n",
    "names(grasspols) <- c( \"p3_01\",\"p3_02\",\"p3_03\",\"p3_04\",\n",
    "\"p3_05\",\"p3_06\",\"p3_07\",\"p3_08\",\"p3_09\",\n",
    "\"p3_10\",\"T1N\",\"T1S\",\"T2S\",\"T3N\",\"T3S\")"
   ]
  },
  {
   "cell_type": "markdown",
   "metadata": {},
   "source": [
    "They should line up in order:"
   ]
  },
  {
   "cell_type": "code",
   "execution_count": 24,
   "metadata": {
    "collapsed": false
   },
   "outputs": [
    {
     "data": {
      "text/html": [
       "<ol class=list-inline>\n",
       "\t<li>'p3_01'</li>\n",
       "\t<li>'p3_02'</li>\n",
       "\t<li>'p3_03'</li>\n",
       "\t<li>'p3_04'</li>\n",
       "\t<li>'p3_05'</li>\n",
       "\t<li>'p3_06'</li>\n",
       "\t<li>'p3_07'</li>\n",
       "\t<li>'p3_08'</li>\n",
       "\t<li>'p3_09'</li>\n",
       "\t<li>'p3_10'</li>\n",
       "\t<li>'T1N'</li>\n",
       "\t<li>'T1S'</li>\n",
       "\t<li>'T2S'</li>\n",
       "\t<li>'T3N'</li>\n",
       "\t<li>'T3S'</li>\n",
       "</ol>\n"
      ],
      "text/latex": [
       "\\begin{enumerate*}\n",
       "\\item 'p3\\_01'\n",
       "\\item 'p3\\_02'\n",
       "\\item 'p3\\_03'\n",
       "\\item 'p3\\_04'\n",
       "\\item 'p3\\_05'\n",
       "\\item 'p3\\_06'\n",
       "\\item 'p3\\_07'\n",
       "\\item 'p3\\_08'\n",
       "\\item 'p3\\_09'\n",
       "\\item 'p3\\_10'\n",
       "\\item 'T1N'\n",
       "\\item 'T1S'\n",
       "\\item 'T2S'\n",
       "\\item 'T3N'\n",
       "\\item 'T3S'\n",
       "\\end{enumerate*}\n"
      ],
      "text/markdown": [
       "1. 'p3_01'\n",
       "2. 'p3_02'\n",
       "3. 'p3_03'\n",
       "4. 'p3_04'\n",
       "5. 'p3_05'\n",
       "6. 'p3_06'\n",
       "7. 'p3_07'\n",
       "8. 'p3_08'\n",
       "9. 'p3_09'\n",
       "10. 'p3_10'\n",
       "11. 'T1N'\n",
       "12. 'T1S'\n",
       "13. 'T2S'\n",
       "14. 'T3N'\n",
       "15. 'T3S'\n",
       "\n",
       "\n"
      ],
      "text/plain": [
       " [1] \"p3_01\" \"p3_02\" \"p3_03\" \"p3_04\" \"p3_05\" \"p3_06\" \"p3_07\" \"p3_08\" \"p3_09\"\n",
       "[10] \"p3_10\" \"T1N\"   \"T1S\"   \"T2S\"   \"T3N\"   \"T3S\"  "
      ]
     },
     "metadata": {},
     "output_type": "display_data"
    },
    {
     "data": {
      "text/html": [
       "<ol class=list-inline>\n",
       "\t<li>'p3_01'</li>\n",
       "\t<li>'p3_02'</li>\n",
       "\t<li>'p3_03'</li>\n",
       "\t<li>'p3_04'</li>\n",
       "\t<li>'p3_05'</li>\n",
       "\t<li>'p3_06'</li>\n",
       "\t<li>'p3_07'</li>\n",
       "\t<li>'p3_08'</li>\n",
       "\t<li>'p3_09'</li>\n",
       "\t<li>'p3_10'</li>\n",
       "\t<li>'T1N'</li>\n",
       "\t<li>'T1S'</li>\n",
       "\t<li>'T2S'</li>\n",
       "\t<li>'T3N'</li>\n",
       "\t<li>'T3S'</li>\n",
       "</ol>\n"
      ],
      "text/latex": [
       "\\begin{enumerate*}\n",
       "\\item 'p3\\_01'\n",
       "\\item 'p3\\_02'\n",
       "\\item 'p3\\_03'\n",
       "\\item 'p3\\_04'\n",
       "\\item 'p3\\_05'\n",
       "\\item 'p3\\_06'\n",
       "\\item 'p3\\_07'\n",
       "\\item 'p3\\_08'\n",
       "\\item 'p3\\_09'\n",
       "\\item 'p3\\_10'\n",
       "\\item 'T1N'\n",
       "\\item 'T1S'\n",
       "\\item 'T2S'\n",
       "\\item 'T3N'\n",
       "\\item 'T3S'\n",
       "\\end{enumerate*}\n"
      ],
      "text/markdown": [
       "1. 'p3_01'\n",
       "2. 'p3_02'\n",
       "3. 'p3_03'\n",
       "4. 'p3_04'\n",
       "5. 'p3_05'\n",
       "6. 'p3_06'\n",
       "7. 'p3_07'\n",
       "8. 'p3_08'\n",
       "9. 'p3_09'\n",
       "10. 'p3_10'\n",
       "11. 'T1N'\n",
       "12. 'T1S'\n",
       "13. 'T2S'\n",
       "14. 'T3N'\n",
       "15. 'T3S'\n",
       "\n",
       "\n"
      ],
      "text/plain": [
       " [1] \"p3_01\" \"p3_02\" \"p3_03\" \"p3_04\" \"p3_05\" \"p3_06\" \"p3_07\" \"p3_08\" \"p3_09\"\n",
       "[10] \"p3_10\" \"T1N\"   \"T1S\"   \"T2S\"   \"T3N\"   \"T3S\"  "
      ]
     },
     "metadata": {},
     "output_type": "display_data"
    },
    {
     "data": {
      "text/html": [
       "<ol class=list-inline>\n",
       "\t<li>'P3_01.png'</li>\n",
       "\t<li>'P3_02.png'</li>\n",
       "\t<li>'P3_03.png'</li>\n",
       "\t<li>'P3_04.png'</li>\n",
       "\t<li>'P3_05.png'</li>\n",
       "\t<li>'P3_06.png'</li>\n",
       "\t<li>'P3_07.png'</li>\n",
       "\t<li>'P3_08.png'</li>\n",
       "\t<li>'P3_09.png'</li>\n",
       "\t<li>'P3_10.png'</li>\n",
       "\t<li>'T1N.png'</li>\n",
       "\t<li>'T1S.png'</li>\n",
       "\t<li>'T2S.png'</li>\n",
       "\t<li>'T3N.png'</li>\n",
       "\t<li>'T3S.png'</li>\n",
       "</ol>\n"
      ],
      "text/latex": [
       "\\begin{enumerate*}\n",
       "\\item 'P3\\_01.png'\n",
       "\\item 'P3\\_02.png'\n",
       "\\item 'P3\\_03.png'\n",
       "\\item 'P3\\_04.png'\n",
       "\\item 'P3\\_05.png'\n",
       "\\item 'P3\\_06.png'\n",
       "\\item 'P3\\_07.png'\n",
       "\\item 'P3\\_08.png'\n",
       "\\item 'P3\\_09.png'\n",
       "\\item 'P3\\_10.png'\n",
       "\\item 'T1N.png'\n",
       "\\item 'T1S.png'\n",
       "\\item 'T2S.png'\n",
       "\\item 'T3N.png'\n",
       "\\item 'T3S.png'\n",
       "\\end{enumerate*}\n"
      ],
      "text/markdown": [
       "1. 'P3_01.png'\n",
       "2. 'P3_02.png'\n",
       "3. 'P3_03.png'\n",
       "4. 'P3_04.png'\n",
       "5. 'P3_05.png'\n",
       "6. 'P3_06.png'\n",
       "7. 'P3_07.png'\n",
       "8. 'P3_08.png'\n",
       "9. 'P3_09.png'\n",
       "10. 'P3_10.png'\n",
       "11. 'T1N.png'\n",
       "12. 'T1S.png'\n",
       "13. 'T2S.png'\n",
       "14. 'T3N.png'\n",
       "15. 'T3S.png'\n",
       "\n",
       "\n"
      ],
      "text/plain": [
       " [1] \"P3_01.png\" \"P3_02.png\" \"P3_03.png\" \"P3_04.png\" \"P3_05.png\" \"P3_06.png\"\n",
       " [7] \"P3_07.png\" \"P3_08.png\" \"P3_09.png\" \"P3_10.png\" \"T1N.png\"   \"T1S.png\"  \n",
       "[13] \"T2S.png\"   \"T3N.png\"   \"T3S.png\"  "
      ]
     },
     "metadata": {},
     "output_type": "display_data"
    }
   ],
   "source": [
    "names(grasspols)\n",
    "names(mushpts)\n",
    "photolist"
   ]
  },
  {
   "cell_type": "markdown",
   "metadata": {},
   "source": [
    "A manual inspection of these files shows that all digitized files match their photos. Sweet. Now cycle through these and make graphics. A function for creating graphics, in the environment as we have it right now (won't work without all the above code getting things into place):"
   ]
  },
  {
   "cell_type": "markdown",
   "metadata": {},
   "source": [
    "<a id='visualize'></a>"
   ]
  },
  {
   "cell_type": "markdown",
   "metadata": {},
   "source": [
    "## Visualize digitizations"
   ]
  },
  {
   "cell_type": "code",
   "execution_count": 25,
   "metadata": {
    "collapsed": true
   },
   "outputs": [],
   "source": [
    "Plotshapes <- function(num){\n",
    "plot(1, type = 'n', xlim = c(0,100), ylim = c(0,100), xlab = '', ylab = '')\n",
    "plot(mushpts[[num]], lwd = 3, pch = 2, col = 'green', add=TRUE)\n",
    "plot(grasspols[[num]], lwd = 3, add=TRUE)\n",
    "}"
   ]
  },
  {
   "cell_type": "markdown",
   "metadata": {},
   "source": [
    "Let's take a look at one of these, using this function (and plotting the actual photo for comparison side-by-side):"
   ]
  },
  {
   "cell_type": "code",
   "execution_count": 31,
   "metadata": {
    "collapsed": false
   },
   "outputs": [],
   "source": [
    "Plotshapes(14)"
   ]
  },
  {
   "cell_type": "markdown",
   "metadata": {},
   "source": [
    "<img src='T3N_sample2.png'>"
   ]
  },
  {
   "cell_type": "markdown",
   "metadata": {},
   "source": [
    "The entirety of these cartoons (left side) are available as .png files in the \"cartoons\" folder of this repository."
   ]
  },
  {
   "cell_type": "markdown",
   "metadata": {},
   "source": [
    "<a id='significance'></a>"
   ]
  },
  {
   "cell_type": "markdown",
   "metadata": {},
   "source": [
    "## Significance testing of real plots"
   ]
  },
  {
   "cell_type": "markdown",
   "metadata": {},
   "source": [
    "Now we repeat the above example, of testing the likelihood of finding mushrooms that are on average closer to grass tufts than we observed in our plots, with the null assumption of complete spatial randomness (CSR). We use the functions written [above](#simulations)."
   ]
  },
  {
   "cell_type": "code",
   "execution_count": 40,
   "metadata": {
    "collapsed": false
   },
   "outputs": [],
   "source": [
    "pvals.meadow <- NULL\n",
    "\n",
    "for (i in 1:length(mushpts)){\n",
    "pvals.meadow[[i]] <- getpval(grasses=grasspols[[i]], mushrooms=mushpts[[i]], iterations=10000)\n",
    "}"
   ]
  },
  {
   "cell_type": "markdown",
   "metadata": {},
   "source": [
    "Let's look at all 14 p-values:"
   ]
  },
  {
   "cell_type": "code",
   "execution_count": 41,
   "metadata": {
    "collapsed": false
   },
   "outputs": [
    {
     "data": {
      "text/html": [
       "<ol class=list-inline>\n",
       "\t<li>0.021</li>\n",
       "\t<li>0.0067</li>\n",
       "\t<li>0</li>\n",
       "\t<li>0</li>\n",
       "\t<li>0</li>\n",
       "\t<li>0</li>\n",
       "\t<li>0</li>\n",
       "\t<li>0</li>\n",
       "\t<li>2e-04</li>\n",
       "\t<li>0.0113</li>\n",
       "\t<li>0.001</li>\n",
       "\t<li>1e-04</li>\n",
       "\t<li>0.0022</li>\n",
       "\t<li>0</li>\n",
       "\t<li>0</li>\n",
       "</ol>\n"
      ],
      "text/latex": [
       "\\begin{enumerate*}\n",
       "\\item 0.021\n",
       "\\item 0.0067\n",
       "\\item 0\n",
       "\\item 0\n",
       "\\item 0\n",
       "\\item 0\n",
       "\\item 0\n",
       "\\item 0\n",
       "\\item 2e-04\n",
       "\\item 0.0113\n",
       "\\item 0.001\n",
       "\\item 1e-04\n",
       "\\item 0.0022\n",
       "\\item 0\n",
       "\\item 0\n",
       "\\end{enumerate*}\n"
      ],
      "text/markdown": [
       "1. 0.021\n",
       "2. 0.0067\n",
       "3. 0\n",
       "4. 0\n",
       "5. 0\n",
       "6. 0\n",
       "7. 0\n",
       "8. 0\n",
       "9. 2e-04\n",
       "10. 0.0113\n",
       "11. 0.001\n",
       "12. 1e-04\n",
       "13. 0.0022\n",
       "14. 0\n",
       "15. 0\n",
       "\n",
       "\n"
      ],
      "text/plain": [
       " [1] 0.0210 0.0067 0.0000 0.0000 0.0000 0.0000 0.0000 0.0000 0.0002 0.0113\n",
       "[11] 0.0010 0.0001 0.0022 0.0000 0.0000"
      ]
     },
     "metadata": {},
     "output_type": "display_data"
    }
   ],
   "source": [
    "pvals.meadow"
   ]
  },
  {
   "cell_type": "markdown",
   "metadata": {},
   "source": [
    "This is a pretty good example of multiple testing. Let's do a Benjamini-Hochberg correction of these p-values:"
   ]
  },
  {
   "cell_type": "code",
   "execution_count": 42,
   "metadata": {
    "collapsed": false
   },
   "outputs": [
    {
     "data": {
      "text/html": [
       "<ol class=list-inline>\n",
       "\t<li>0.021</li>\n",
       "\t<li>0.00773076923076923</li>\n",
       "\t<li>0</li>\n",
       "\t<li>0</li>\n",
       "\t<li>0</li>\n",
       "\t<li>0</li>\n",
       "\t<li>0</li>\n",
       "\t<li>0</li>\n",
       "\t<li>3e-04</li>\n",
       "\t<li>0.0121071428571429</li>\n",
       "\t<li>0.00136363636363636</li>\n",
       "\t<li>0.000166666666666667</li>\n",
       "\t<li>0.00275</li>\n",
       "\t<li>0</li>\n",
       "\t<li>0</li>\n",
       "</ol>\n"
      ],
      "text/latex": [
       "\\begin{enumerate*}\n",
       "\\item 0.021\n",
       "\\item 0.00773076923076923\n",
       "\\item 0\n",
       "\\item 0\n",
       "\\item 0\n",
       "\\item 0\n",
       "\\item 0\n",
       "\\item 0\n",
       "\\item 3e-04\n",
       "\\item 0.0121071428571429\n",
       "\\item 0.00136363636363636\n",
       "\\item 0.000166666666666667\n",
       "\\item 0.00275\n",
       "\\item 0\n",
       "\\item 0\n",
       "\\end{enumerate*}\n"
      ],
      "text/markdown": [
       "1. 0.021\n",
       "2. 0.00773076923076923\n",
       "3. 0\n",
       "4. 0\n",
       "5. 0\n",
       "6. 0\n",
       "7. 0\n",
       "8. 0\n",
       "9. 3e-04\n",
       "10. 0.0121071428571429\n",
       "11. 0.00136363636363636\n",
       "12. 0.000166666666666667\n",
       "13. 0.00275\n",
       "14. 0\n",
       "15. 0\n",
       "\n",
       "\n"
      ],
      "text/plain": [
       " [1] 0.0210000000 0.0077307692 0.0000000000 0.0000000000 0.0000000000\n",
       " [6] 0.0000000000 0.0000000000 0.0000000000 0.0003000000 0.0121071429\n",
       "[11] 0.0013636364 0.0001666667 0.0027500000 0.0000000000 0.0000000000"
      ]
     },
     "metadata": {},
     "output_type": "display_data"
    }
   ],
   "source": [
    "p.adjust(pvals.meadow, method=\"fdr\")"
   ]
  },
  {
   "cell_type": "markdown",
   "metadata": {},
   "source": [
    "Wow. We soundly reject the null hypothesis of no spatial relation between the grasses and *Mycena* mushrooms. "
   ]
  },
  {
   "cell_type": "code",
   "execution_count": null,
   "metadata": {
    "collapsed": true
   },
   "outputs": [],
   "source": []
  }
 ],
 "metadata": {
  "kernelspec": {
   "display_name": "R 3.3",
   "language": "R",
   "name": "ir33"
  },
  "language_info": {
   "codemirror_mode": "r",
   "file_extension": ".r",
   "mimetype": "text/x-r-source",
   "name": "R",
   "pygments_lexer": "r",
   "version": "3.3.1"
  }
 },
 "nbformat": 4,
 "nbformat_minor": 0
}
