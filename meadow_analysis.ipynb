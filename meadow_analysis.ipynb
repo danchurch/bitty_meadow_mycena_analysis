{
 "cells": [
  {
   "cell_type": "markdown",
   "metadata": {},
   "source": [
    "# Meadow analysis"
   ]
  },
  {
   "cell_type": "markdown",
   "metadata": {},
   "source": [
    "So now we have 15 sets of points representing mushrooms from our plots and 15 accompanying sets of polygons representing grass tufts. How do we test the hypothesis that they are spatially linked? "
   ]
  },
  {
   "cell_type": "markdown",
   "metadata": {},
   "source": [
    "### Set up our R environment"
   ]
  },
  {
   "cell_type": "markdown",
   "metadata": {},
   "source": [
    "packages:"
   ]
  },
  {
   "cell_type": "code",
   "execution_count": 27,
   "metadata": {
    "collapsed": false
   },
   "outputs": [],
   "source": [
    "library('png')\n",
    "library('sp')\n",
    "library('maptools')\n",
    "library('rgeos')\n",
    "library('repr')"
   ]
  },
  {
   "cell_type": "code",
   "execution_count": 9,
   "metadata": {
    "collapsed": true
   },
   "outputs": [],
   "source": [
    "setwd(\"/home/daniel/Documents/Bitty_meadow_analysis/analysis\")"
   ]
  },
  {
   "cell_type": "markdown",
   "metadata": {},
   "source": [
    "load our function for digitizing grasses, \"digpol()\""
   ]
  },
  {
   "cell_type": "code",
   "execution_count": 16,
   "metadata": {
    "collapsed": false
   },
   "outputs": [],
   "source": [
    "source('digpols.R')"
   ]
  },
  {
   "cell_type": "markdown",
   "metadata": {},
   "source": [
    "Which, by the way, looks like this:"
   ]
  },
  {
   "cell_type": "code",
   "execution_count": 18,
   "metadata": {
    "collapsed": false
   },
   "outputs": [
    {
     "data": {
      "text/html": [
       "<pre class=language-r><code>function () \n",
       "{\n",
       "    require(\"sp\")\n",
       "    iter &lt;- 1\n",
       "    an &lt;- \"y\"\n",
       "    grasspols &lt;- NULL\n",
       "    allpols &lt;- list()\n",
       "    while (an != \"n\") {\n",
       "        grass &lt;- locator()\n",
       "        grasspols &lt;- Polygon(rbind(cbind(grass$x, grass$y), cbind(grass$x[1], \n",
       "            grass$y[1])))\n",
       "        bb &lt;- Polygons(list(grasspols), ID = paste(\"grass\", iter, \n",
       "            sep = \"\"))\n",
       "        allpols[[iter]] &lt;- bb\n",
       "        plot(SpatialPolygons(allpols), lwd = 2, add = TRUE)\n",
       "        an &lt;- readline(prompt = \"Another(y/n)? \")\n",
       "        if (an == \"y\") {\n",
       "            iter &lt;- iter + 1\n",
       "        }\n",
       "        else {\n",
       "            break\n",
       "        }\n",
       "    }\n",
       "    cc &lt;- SpatialPolygons(allpols)\n",
       "    return(cc)\n",
       "}</code></pre>"
      ],
      "text/latex": [
       "\\begin{minted}{r}\n",
       "function () \n",
       "\\{\n",
       "    require(\"sp\")\n",
       "    iter <- 1\n",
       "    an <- \"y\"\n",
       "    grasspols <- NULL\n",
       "    allpols <- list()\n",
       "    while (an != \"n\") \\{\n",
       "        grass <- locator()\n",
       "        grasspols <- Polygon(rbind(cbind(grass\\$x, grass\\$y), cbind(grass\\$x{[}1{]}, \n",
       "            grass\\$y{[}1{]})))\n",
       "        bb <- Polygons(list(grasspols), ID = paste(\"grass\", iter, \n",
       "            sep = \"\"))\n",
       "        allpols{[}{[}iter{]}{]} <- bb\n",
       "        plot(SpatialPolygons(allpols), lwd = 2, add = TRUE)\n",
       "        an <- readline(prompt = \"Another(y/n)? \")\n",
       "        if (an == \"y\") \\{\n",
       "            iter <- iter + 1\n",
       "        \\}\n",
       "        else \\{\n",
       "            break\n",
       "        \\}\n",
       "    \\}\n",
       "    cc <- SpatialPolygons(allpols)\n",
       "    return(cc)\n",
       "\\}\n",
       "\\end{minted}"
      ],
      "text/markdown": [
       "```r\n",
       "function () \n",
       "{\n",
       "    require(\"sp\")\n",
       "    iter <- 1\n",
       "    an <- \"y\"\n",
       "    grasspols <- NULL\n",
       "    allpols <- list()\n",
       "    while (an != \"n\") {\n",
       "        grass <- locator()\n",
       "        grasspols <- Polygon(rbind(cbind(grass$x, grass$y), cbind(grass$x[1], \n",
       "            grass$y[1])))\n",
       "        bb <- Polygons(list(grasspols), ID = paste(\"grass\", iter, \n",
       "            sep = \"\"))\n",
       "        allpols[[iter]] <- bb\n",
       "        plot(SpatialPolygons(allpols), lwd = 2, add = TRUE)\n",
       "        an <- readline(prompt = \"Another(y/n)? \")\n",
       "        if (an == \"y\") {\n",
       "            iter <- iter + 1\n",
       "        }\n",
       "        else {\n",
       "            break\n",
       "        }\n",
       "    }\n",
       "    cc <- SpatialPolygons(allpols)\n",
       "    return(cc)\n",
       "}\n",
       "```"
      ],
      "text/plain": [
       "function () \n",
       "{\n",
       "    require(\"sp\")\n",
       "    iter <- 1\n",
       "    an <- \"y\"\n",
       "    grasspols <- NULL\n",
       "    allpols <- list()\n",
       "    while (an != \"n\") {\n",
       "        grass <- locator()\n",
       "        grasspols <- Polygon(rbind(cbind(grass$x, grass$y), cbind(grass$x[1], \n",
       "            grass$y[1])))\n",
       "        bb <- Polygons(list(grasspols), ID = paste(\"grass\", iter, \n",
       "            sep = \"\"))\n",
       "        allpols[[iter]] <- bb\n",
       "        plot(SpatialPolygons(allpols), lwd = 2, add = TRUE)\n",
       "        an <- readline(prompt = \"Another(y/n)? \")\n",
       "        if (an == \"y\") {\n",
       "            iter <- iter + 1\n",
       "        }\n",
       "        else {\n",
       "            break\n",
       "        }\n",
       "    }\n",
       "    cc <- SpatialPolygons(allpols)\n",
       "    return(cc)\n",
       "}"
      ]
     },
     "metadata": {},
     "output_type": "display_data"
    }
   ],
   "source": [
    "digpols"
   ]
  },
  {
   "cell_type": "markdown",
   "metadata": {},
   "source": [
    "## Finding distances to nearest grass-tuft neighbor of mushrooms"
   ]
  },
  {
   "cell_type": "markdown",
   "metadata": {},
   "source": [
    "One of our plots looks like this, after digitizing: "
   ]
  },
  {
   "cell_type": "markdown",
   "metadata": {},
   "source": [
    "<img src='p3_06_sample_pols_mush.png'>"
   ]
  },
  {
   "cell_type": "markdown",
   "metadata": {},
   "source": [
    "(The red triangles represent a mushroom or a cluster of mushrooms)"
   ]
  },
  {
   "cell_type": "markdown",
   "metadata": {},
   "source": [
    "Let's simplify things a bit, and just deal with a few imaginary grass tufts and a few imaginary mushrooms:"
   ]
  },
  {
   "cell_type": "code",
   "execution_count": 50,
   "metadata": {
    "collapsed": false
   },
   "outputs": [],
   "source": [
    "p <- SpatialPoints(cbind(c(25,5,70),c(25,45,70)))"
   ]
  },
  {
   "cell_type": "markdown",
   "metadata": {},
   "source": [
    "Use our digpols() function to draw some spatial polygons:"
   ]
  },
  {
   "cell_type": "code",
   "execution_count": 23,
   "metadata": {
    "collapsed": false
   },
   "outputs": [],
   "source": [
    "g <- digpols()"
   ]
  },
  {
   "cell_type": "markdown",
   "metadata": {},
   "source": [
    "What does this look like?"
   ]
  },
  {
   "cell_type": "code",
   "execution_count": 59,
   "metadata": {
    "collapsed": false
   },
   "outputs": [],
   "source": [
    "options(repr.plot.width = 5, repr.plot.height = 5) ## using repr to control size of R plotter outputs"
   ]
  },
  {
   "cell_type": "code",
   "execution_count": 60,
   "metadata": {
    "collapsed": false
   },
   "outputs": [
    {
     "data": {
      "image/png": "[encoded data removed]",
      "image/svg+xml": [
       "<?xml version=\"1.0\" encoding=\"UTF-8\"?>\n",
       "<svg xmlns=\"http://www.w3.org/2000/svg\" xmlns:xlink=\"http://www.w3.org/1999/xlink\" width=\"360pt\" height=\"360pt\" viewBox=\"0 0 360 360\" version=\"1.1\">\n",
       "<defs>\n",
       "<g>\n",
       "<symbol overflow=\"visible\" id=\"glyph0-0\">\n",
       "<path style=\"stroke:none;\" d=\"\"/>\n",
       "</symbol>\n",
       "<symbol overflow=\"visible\" id=\"glyph0-1\">\n",
       "<path style=\"stroke:none;\" d=\"M 6.21875 -4.21875 C 6.21875 -7.171875 5.140625 -8.765625 3.296875 -8.765625 C 1.46875 -8.765625 0.375 -7.15625 0.375 -4.296875 C 0.375 -1.421875 1.46875 0.1875 3.296875 0.1875 C 5.09375 0.1875 6.21875 -1.421875 6.21875 -4.21875 Z M 4.859375 -4.3125 C 4.859375 -1.90625 4.453125 -0.953125 3.28125 -0.953125 C 2.15625 -0.953125 1.734375 -1.953125 1.734375 -4.28125 C 1.734375 -6.609375 2.15625 -7.578125 3.296875 -7.578125 C 4.4375 -7.578125 4.859375 -6.59375 4.859375 -4.3125 Z M 4.859375 -4.3125 \"/>\n",
       "</symbol>\n",
       "<symbol overflow=\"visible\" id=\"glyph0-2\">\n",
       "<path style=\"stroke:none;\" d=\"M 6.265625 -6.140625 C 6.265625 -7.578125 5.015625 -8.765625 3.40625 -8.765625 C 1.671875 -8.765625 0.515625 -7.75 0.453125 -5.5625 L 1.78125 -5.5625 C 1.875 -7.109375 2.328125 -7.578125 3.375 -7.578125 C 4.328125 -7.578125 4.90625 -7.03125 4.90625 -6.125 C 4.90625 -5.453125 4.546875 -4.96875 3.796875 -4.53125 L 2.6875 -3.90625 C 0.90625 -2.90625 0.359375 -2 0.25 0 L 6.203125 0 L 6.203125 -1.3125 L 1.75 -1.3125 C 1.84375 -1.875 2.1875 -2.21875 3.234375 -2.828125 L 4.421875 -3.484375 C 5.609375 -4.109375 6.265625 -5.09375 6.265625 -6.140625 Z M 6.265625 -6.140625 \"/>\n",
       "</symbol>\n",
       "<symbol overflow=\"visible\" id=\"glyph0-3\">\n",
       "<path style=\"stroke:none;\" d=\"M 6.375 -2.171875 L 6.375 -3.25 L 5.109375 -3.25 L 5.109375 -8.765625 L 4.125 -8.765625 L 0.1875 -3.328125 L 0.1875 -2.046875 L 3.78125 -2.046875 L 3.78125 0 L 5.109375 0 L 5.109375 -2.046875 L 6.375 -2.046875 Z M 3.921875 -3.25 L 1.515625 -3.25 L 4.015625 -6.75 L 3.78125 -6.84375 L 3.78125 -3.25 Z M 3.921875 -3.25 \"/>\n",
       "</symbol>\n",
       "<symbol overflow=\"visible\" id=\"glyph0-4\">\n",
       "<path style=\"stroke:none;\" d=\"M 6.28125 -2.765625 C 6.28125 -4.359375 5.078125 -5.5625 3.546875 -5.5625 C 2.71875 -5.5625 1.9375 -5.203125 1.484375 -4.578125 L 1.734375 -4.46875 C 1.734375 -6.546875 2.28125 -7.578125 3.484375 -7.578125 C 4.234375 -7.578125 4.609375 -7.234375 4.796875 -6.28125 L 6.125 -6.28125 C 5.90625 -7.8125 4.859375 -8.765625 3.5625 -8.765625 C 1.578125 -8.765625 0.375 -6.96875 0.375 -4.015625 C 0.375 -1.359375 1.421875 0.1875 3.375 0.1875 C 4.984375 0.1875 6.28125 -1.109375 6.28125 -2.765625 Z M 4.9375 -2.6875 C 4.9375 -1.625 4.359375 -1.015625 3.390625 -1.015625 C 2.40625 -1.015625 1.78125 -1.65625 1.78125 -2.75 C 1.78125 -3.796875 2.375 -4.359375 3.421875 -4.359375 C 4.4375 -4.359375 4.9375 -3.828125 4.9375 -2.6875 Z M 4.9375 -2.6875 \"/>\n",
       "</symbol>\n",
       "<symbol overflow=\"visible\" id=\"glyph0-5\">\n",
       "<path style=\"stroke:none;\" d=\"M 6.28125 -2.53125 C 6.28125 -3.484375 5.671875 -4.265625 4.953125 -4.625 C 5.65625 -5.046875 5.984375 -5.5625 5.984375 -6.375 C 5.984375 -7.703125 4.8125 -8.765625 3.296875 -8.765625 C 1.796875 -8.765625 0.59375 -7.703125 0.59375 -6.375 C 0.59375 -5.578125 0.921875 -5.046875 1.625 -4.625 C 0.921875 -4.265625 0.296875 -3.484375 0.296875 -2.546875 C 0.296875 -0.984375 1.625 0.1875 3.296875 0.1875 C 4.984375 0.1875 6.28125 -0.984375 6.28125 -2.53125 Z M 4.625 -6.34375 C 4.625 -5.5625 4.1875 -5.15625 3.296875 -5.15625 C 2.40625 -5.15625 1.953125 -5.5625 1.953125 -6.359375 C 1.953125 -7.171875 2.40625 -7.578125 3.296875 -7.578125 C 4.203125 -7.578125 4.625 -7.171875 4.625 -6.34375 Z M 4.9375 -2.515625 C 4.9375 -1.515625 4.359375 -1.015625 3.28125 -1.015625 C 2.25 -1.015625 1.65625 -1.53125 1.65625 -2.515625 C 1.65625 -3.515625 2.25 -4.015625 3.296875 -4.015625 C 4.359375 -4.015625 4.9375 -3.515625 4.9375 -2.515625 Z M 4.9375 -2.515625 \"/>\n",
       "</symbol>\n",
       "<symbol overflow=\"visible\" id=\"glyph0-6\">\n",
       "<path style=\"stroke:none;\" d=\"M 4.296875 -0.125 L 4.296875 -8.765625 L 3.359375 -8.765625 C 2.953125 -7.328125 2.859375 -7.28125 1.078125 -7.0625 L 1.078125 -6.0625 L 2.96875 -6.0625 L 2.96875 0 L 4.296875 0 Z M 4.296875 -0.125 \"/>\n",
       "</symbol>\n",
       "<symbol overflow=\"visible\" id=\"glyph1-0\">\n",
       "<path style=\"stroke:none;\" d=\"\"/>\n",
       "</symbol>\n",
       "<symbol overflow=\"visible\" id=\"glyph1-1\">\n",
       "<path style=\"stroke:none;\" d=\"M -4.21875 -6.21875 C -7.171875 -6.21875 -8.765625 -5.140625 -8.765625 -3.296875 C -8.765625 -1.46875 -7.15625 -0.375 -4.296875 -0.375 C -1.421875 -0.375 0.1875 -1.46875 0.1875 -3.296875 C 0.1875 -5.09375 -1.421875 -6.21875 -4.21875 -6.21875 Z M -4.3125 -4.859375 C -1.90625 -4.859375 -0.953125 -4.453125 -0.953125 -3.28125 C -0.953125 -2.15625 -1.953125 -1.734375 -4.28125 -1.734375 C -6.609375 -1.734375 -7.578125 -2.15625 -7.578125 -3.296875 C -7.578125 -4.4375 -6.59375 -4.859375 -4.3125 -4.859375 Z M -4.3125 -4.859375 \"/>\n",
       "</symbol>\n",
       "<symbol overflow=\"visible\" id=\"glyph1-2\">\n",
       "<path style=\"stroke:none;\" d=\"M -6.140625 -6.265625 C -7.578125 -6.265625 -8.765625 -5.015625 -8.765625 -3.40625 C -8.765625 -1.671875 -7.75 -0.515625 -5.5625 -0.453125 L -5.5625 -1.78125 C -7.109375 -1.875 -7.578125 -2.328125 -7.578125 -3.375 C -7.578125 -4.328125 -7.03125 -4.90625 -6.125 -4.90625 C -5.453125 -4.90625 -4.96875 -4.546875 -4.53125 -3.796875 L -3.90625 -2.6875 C -2.90625 -0.90625 -2 -0.359375 0 -0.25 L 0 -6.203125 L -1.3125 -6.203125 L -1.3125 -1.75 C -1.875 -1.84375 -2.21875 -2.1875 -2.828125 -3.234375 L -3.484375 -4.421875 C -4.109375 -5.609375 -5.09375 -6.265625 -6.140625 -6.265625 Z M -6.140625 -6.265625 \"/>\n",
       "</symbol>\n",
       "<symbol overflow=\"visible\" id=\"glyph1-3\">\n",
       "<path style=\"stroke:none;\" d=\"M -2.171875 -6.375 L -3.25 -6.375 L -3.25 -5.109375 L -8.765625 -5.109375 L -8.765625 -4.125 L -3.328125 -0.1875 L -2.046875 -0.1875 L -2.046875 -3.78125 L 0 -3.78125 L 0 -5.109375 L -2.046875 -5.109375 L -2.046875 -6.375 Z M -3.25 -3.921875 L -3.25 -1.515625 L -6.75 -4.015625 L -6.84375 -3.78125 L -3.25 -3.78125 Z M -3.25 -3.921875 \"/>\n",
       "</symbol>\n",
       "<symbol overflow=\"visible\" id=\"glyph1-4\">\n",
       "<path style=\"stroke:none;\" d=\"M -2.765625 -6.28125 C -4.359375 -6.28125 -5.5625 -5.078125 -5.5625 -3.546875 C -5.5625 -2.71875 -5.203125 -1.9375 -4.578125 -1.484375 L -4.46875 -1.734375 C -6.546875 -1.734375 -7.578125 -2.28125 -7.578125 -3.484375 C -7.578125 -4.234375 -7.234375 -4.609375 -6.28125 -4.796875 L -6.28125 -6.125 C -7.8125 -5.90625 -8.765625 -4.859375 -8.765625 -3.5625 C -8.765625 -1.578125 -6.96875 -0.375 -4.015625 -0.375 C -1.359375 -0.375 0.1875 -1.421875 0.1875 -3.375 C 0.1875 -4.984375 -1.109375 -6.28125 -2.765625 -6.28125 Z M -2.6875 -4.9375 C -1.625 -4.9375 -1.015625 -4.359375 -1.015625 -3.390625 C -1.015625 -2.40625 -1.65625 -1.78125 -2.75 -1.78125 C -3.796875 -1.78125 -4.359375 -2.375 -4.359375 -3.421875 C -4.359375 -4.4375 -3.828125 -4.9375 -2.6875 -4.9375 Z M -2.6875 -4.9375 \"/>\n",
       "</symbol>\n",
       "<symbol overflow=\"visible\" id=\"glyph1-5\">\n",
       "<path style=\"stroke:none;\" d=\"M -2.53125 -6.28125 C -3.484375 -6.28125 -4.265625 -5.671875 -4.625 -4.953125 C -5.046875 -5.65625 -5.5625 -5.984375 -6.375 -5.984375 C -7.703125 -5.984375 -8.765625 -4.8125 -8.765625 -3.296875 C -8.765625 -1.796875 -7.703125 -0.59375 -6.375 -0.59375 C -5.578125 -0.59375 -5.046875 -0.921875 -4.625 -1.625 C -4.265625 -0.921875 -3.484375 -0.296875 -2.546875 -0.296875 C -0.984375 -0.296875 0.1875 -1.625 0.1875 -3.296875 C 0.1875 -4.984375 -0.984375 -6.28125 -2.53125 -6.28125 Z M -6.34375 -4.625 C -5.5625 -4.625 -5.15625 -4.1875 -5.15625 -3.296875 C -5.15625 -2.40625 -5.5625 -1.953125 -6.359375 -1.953125 C -7.171875 -1.953125 -7.578125 -2.40625 -7.578125 -3.296875 C -7.578125 -4.203125 -7.171875 -4.625 -6.34375 -4.625 Z M -2.515625 -4.9375 C -1.515625 -4.9375 -1.015625 -4.359375 -1.015625 -3.28125 C -1.015625 -2.25 -1.53125 -1.65625 -2.515625 -1.65625 C -3.515625 -1.65625 -4.015625 -2.25 -4.015625 -3.296875 C -4.015625 -4.359375 -3.515625 -4.9375 -2.515625 -4.9375 Z M -2.515625 -4.9375 \"/>\n",
       "</symbol>\n",
       "<symbol overflow=\"visible\" id=\"glyph1-6\">\n",
       "<path style=\"stroke:none;\" d=\"M -0.125 -4.296875 L -8.765625 -4.296875 L -8.765625 -3.359375 C -7.328125 -2.953125 -7.28125 -2.859375 -7.0625 -1.078125 L -6.0625 -1.078125 L -6.0625 -2.96875 L 0 -2.96875 L 0 -4.296875 Z M -0.125 -4.296875 \"/>\n",
       "</symbol>\n",
       "</g>\n",
       "</defs>\n",
       "<g id=\"surface116\">\n",
       "<rect x=\"0\" y=\"0\" width=\"360\" height=\"360\" style=\"fill:rgb(100%,100%,100%);fill-opacity:1;stroke:none;\"/>\n",
       "<path style=\"fill-rule:nonzero;fill:rgb(0%,100%,0%);fill-opacity:1;stroke-width:1.5;stroke-linecap:round;stroke-linejoin:round;stroke:rgb(0%,0%,0%);stroke-opacity:1;stroke-miterlimit:10;\" d=\"M 158.519531 101.515625 L 173.332031 135.109375 L 126.011719 156.738281 L 105.4375 124.066406 L 132.183594 94.613281 Z M 158.519531 101.515625 \"/>\n",
       "<path style=\"fill-rule:nonzero;fill:rgb(0%,100%,0%);fill-opacity:1;stroke-width:1.5;stroke-linecap:round;stroke-linejoin:round;stroke:rgb(0%,0%,0%);stroke-opacity:1;stroke-miterlimit:10;\" d=\"M 232.171875 253.839844 L 251.097656 263.960938 L 230.9375 277.308594 L 196.375 277.769531 L 145.351562 278.230469 L 126.835938 270.867188 L 141.648438 257.058594 L 189.378906 252.917969 Z M 232.171875 253.839844 \"/>\n",
       "<path style=\"fill-rule:nonzero;fill:rgb(0%,100%,0%);fill-opacity:1;stroke-width:1.5;stroke-linecap:round;stroke-linejoin:round;stroke:rgb(0%,0%,0%);stroke-opacity:1;stroke-miterlimit:10;\" d=\"M 250.6875 121.304688 L 274.554688 125.90625 L 284.015625 162.261719 L 250.6875 181.589844 L 226 138.332031 Z M 250.6875 121.304688 \"/>\n",
       "<path style=\" stroke:none;fill-rule:nonzero;fill:rgb(100%,0%,0%);fill-opacity:1;\" d=\"M 141.734375 217.070312 L 149.007812 229.664062 L 134.460938 229.664062 Z M 141.734375 217.070312 \"/>\n",
       "<path style=\" stroke:none;fill-rule:nonzero;fill:rgb(100%,0%,0%);fill-opacity:1;\" d=\"M 99.601562 174.9375 L 106.871094 187.53125 L 92.328125 187.53125 Z M 99.601562 174.9375 \"/>\n",
       "<path style=\" stroke:none;fill-rule:nonzero;fill:rgb(100%,0%,0%);fill-opacity:1;\" d=\"M 236.535156 122.269531 L 243.804688 134.867188 L 229.261719 134.867188 Z M 236.535156 122.269531 \"/>\n",
       "<path style=\"fill:none;stroke-width:0.75;stroke-linecap:round;stroke-linejoin:round;stroke:rgb(0%,0%,0%);stroke-opacity:1;stroke-miterlimit:10;\" d=\"M 89.066406 278.132812 L 299.734375 278.132812 \"/>\n",
       "<path style=\"fill:none;stroke-width:0.75;stroke-linecap:round;stroke-linejoin:round;stroke:rgb(0%,0%,0%);stroke-opacity:1;stroke-miterlimit:10;\" d=\"M 89.066406 278.132812 L 89.066406 285.332031 \"/>\n",
       "<path style=\"fill:none;stroke-width:0.75;stroke-linecap:round;stroke-linejoin:round;stroke:rgb(0%,0%,0%);stroke-opacity:1;stroke-miterlimit:10;\" d=\"M 131.199219 278.132812 L 131.199219 285.332031 \"/>\n",
       "<path style=\"fill:none;stroke-width:0.75;stroke-linecap:round;stroke-linejoin:round;stroke:rgb(0%,0%,0%);stroke-opacity:1;stroke-miterlimit:10;\" d=\"M 173.332031 278.132812 L 173.332031 285.332031 \"/>\n",
       "<path style=\"fill:none;stroke-width:0.75;stroke-linecap:round;stroke-linejoin:round;stroke:rgb(0%,0%,0%);stroke-opacity:1;stroke-miterlimit:10;\" d=\"M 215.464844 278.132812 L 215.464844 285.332031 \"/>\n",
       "<path style=\"fill:none;stroke-width:0.75;stroke-linecap:round;stroke-linejoin:round;stroke:rgb(0%,0%,0%);stroke-opacity:1;stroke-miterlimit:10;\" d=\"M 257.601562 278.132812 L 257.601562 285.332031 \"/>\n",
       "<path style=\"fill:none;stroke-width:0.75;stroke-linecap:round;stroke-linejoin:round;stroke:rgb(0%,0%,0%);stroke-opacity:1;stroke-miterlimit:10;\" d=\"M 299.734375 278.132812 L 299.734375 285.332031 \"/>\n",
       "<g style=\"fill:rgb(0%,0%,0%);fill-opacity:1;\">\n",
       "  <use xlink:href=\"#glyph0-1\" x=\"85.566406\" y=\"303.831055\"/>\n",
       "</g>\n",
       "<g style=\"fill:rgb(0%,0%,0%);fill-opacity:1;\">\n",
       "  <use xlink:href=\"#glyph0-2\" x=\"124.199219\" y=\"303.831055\"/>\n",
       "  <use xlink:href=\"#glyph0-1\" x=\"130.871094\" y=\"303.831055\"/>\n",
       "</g>\n",
       "<g style=\"fill:rgb(0%,0%,0%);fill-opacity:1;\">\n",
       "  <use xlink:href=\"#glyph0-3\" x=\"166.332031\" y=\"303.831055\"/>\n",
       "  <use xlink:href=\"#glyph0-1\" x=\"173.003906\" y=\"303.831055\"/>\n",
       "</g>\n",
       "<g style=\"fill:rgb(0%,0%,0%);fill-opacity:1;\">\n",
       "  <use xlink:href=\"#glyph0-4\" x=\"208.464844\" y=\"303.831055\"/>\n",
       "  <use xlink:href=\"#glyph0-1\" x=\"215.136719\" y=\"303.831055\"/>\n",
       "</g>\n",
       "<g style=\"fill:rgb(0%,0%,0%);fill-opacity:1;\">\n",
       "  <use xlink:href=\"#glyph0-5\" x=\"250.601562\" y=\"303.831055\"/>\n",
       "  <use xlink:href=\"#glyph0-1\" x=\"257.273438\" y=\"303.831055\"/>\n",
       "</g>\n",
       "<g style=\"fill:rgb(0%,0%,0%);fill-opacity:1;\">\n",
       "  <use xlink:href=\"#glyph0-6\" x=\"289.234375\" y=\"303.831055\"/>\n",
       "  <use xlink:href=\"#glyph0-1\" x=\"295.90625\" y=\"303.831055\"/>\n",
       "  <use xlink:href=\"#glyph0-1\" x=\"302.578125\" y=\"303.831055\"/>\n",
       "</g>\n",
       "<path style=\"fill:none;stroke-width:0.75;stroke-linecap:round;stroke-linejoin:round;stroke:rgb(0%,0%,0%);stroke-opacity:1;stroke-miterlimit:10;\" d=\"M 89.066406 278.132812 L 89.066406 67.464844 \"/>\n",
       "<path style=\"fill:none;stroke-width:0.75;stroke-linecap:round;stroke-linejoin:round;stroke:rgb(0%,0%,0%);stroke-opacity:1;stroke-miterlimit:10;\" d=\"M 89.066406 278.132812 L 81.867188 278.132812 \"/>\n",
       "<path style=\"fill:none;stroke-width:0.75;stroke-linecap:round;stroke-linejoin:round;stroke:rgb(0%,0%,0%);stroke-opacity:1;stroke-miterlimit:10;\" d=\"M 89.066406 236 L 81.867188 236 \"/>\n",
       "<path style=\"fill:none;stroke-width:0.75;stroke-linecap:round;stroke-linejoin:round;stroke:rgb(0%,0%,0%);stroke-opacity:1;stroke-miterlimit:10;\" d=\"M 89.066406 193.867188 L 81.867188 193.867188 \"/>\n",
       "<path style=\"fill:none;stroke-width:0.75;stroke-linecap:round;stroke-linejoin:round;stroke:rgb(0%,0%,0%);stroke-opacity:1;stroke-miterlimit:10;\" d=\"M 89.066406 151.734375 L 81.867188 151.734375 \"/>\n",
       "<path style=\"fill:none;stroke-width:0.75;stroke-linecap:round;stroke-linejoin:round;stroke:rgb(0%,0%,0%);stroke-opacity:1;stroke-miterlimit:10;\" d=\"M 89.066406 109.601562 L 81.867188 109.601562 \"/>\n",
       "<path style=\"fill:none;stroke-width:0.75;stroke-linecap:round;stroke-linejoin:round;stroke:rgb(0%,0%,0%);stroke-opacity:1;stroke-miterlimit:10;\" d=\"M 89.066406 67.464844 L 81.867188 67.464844 \"/>\n",
       "<g style=\"fill:rgb(0%,0%,0%);fill-opacity:1;\">\n",
       "  <use xlink:href=\"#glyph1-1\" x=\"71.561523\" y=\"281.632812\"/>\n",
       "</g>\n",
       "<g style=\"fill:rgb(0%,0%,0%);fill-opacity:1;\">\n",
       "  <use xlink:href=\"#glyph1-2\" x=\"71.561523\" y=\"243\"/>\n",
       "  <use xlink:href=\"#glyph1-1\" x=\"71.561523\" y=\"236.328125\"/>\n",
       "</g>\n",
       "<g style=\"fill:rgb(0%,0%,0%);fill-opacity:1;\">\n",
       "  <use xlink:href=\"#glyph1-3\" x=\"71.561523\" y=\"200.867188\"/>\n",
       "  <use xlink:href=\"#glyph1-1\" x=\"71.561523\" y=\"194.195312\"/>\n",
       "</g>\n",
       "<g style=\"fill:rgb(0%,0%,0%);fill-opacity:1;\">\n",
       "  <use xlink:href=\"#glyph1-4\" x=\"71.561523\" y=\"158.734375\"/>\n",
       "  <use xlink:href=\"#glyph1-1\" x=\"71.561523\" y=\"152.0625\"/>\n",
       "</g>\n",
       "<g style=\"fill:rgb(0%,0%,0%);fill-opacity:1;\">\n",
       "  <use xlink:href=\"#glyph1-5\" x=\"71.561523\" y=\"116.601562\"/>\n",
       "  <use xlink:href=\"#glyph1-1\" x=\"71.561523\" y=\"109.929688\"/>\n",
       "</g>\n",
       "<g style=\"fill:rgb(0%,0%,0%);fill-opacity:1;\">\n",
       "  <use xlink:href=\"#glyph1-6\" x=\"71.561523\" y=\"77.964844\"/>\n",
       "  <use xlink:href=\"#glyph1-1\" x=\"71.561523\" y=\"71.292969\"/>\n",
       "  <use xlink:href=\"#glyph1-1\" x=\"71.561523\" y=\"64.621094\"/>\n",
       "</g>\n",
       "</g>\n",
       "</svg>\n"
      ],
      "text/plain": [
       "plot without title"
      ]
     },
     "metadata": {
      "image/svg+xml": {
       "isolated": true
      }
     },
     "output_type": "display_data"
    }
   ],
   "source": [
    "plot(g, lwd = 2, xlim = c(0,100), ylim = c(0,100), col = 'green')\n",
    "plot(p, pch = 17, col = 'red', cex = 2, add = TRUE)\n",
    "axis(1, pos = 0)\n",
    "axis(2, pos = 0, at = c(0,100), labels = c('',''), lwd.ticks=0)\n",
    "axis(2, pos = 0, at=seq(0,100, by = 20), lwd=0, lwd.ticks=1)"
   ]
  },
  {
   "cell_type": "markdown",
   "metadata": {},
   "source": [
    "We need to know the distance to the nearest grass clump for each mushroom. We can get the distances using [gDistance()](https://cran.r-project.org/web/packages/rgeos/rgeos.pdf). Make sure to use the 'byid=TRUE' option:"
   ]
  },
  {
   "cell_type": "code",
   "execution_count": 61,
   "metadata": {
    "collapsed": false
   },
   "outputs": [
    {
     "data": {
      "text/html": [
       "<table>\n",
       "<thead><tr><th></th><th scope=col>grass1</th><th scope=col>grass2</th><th scope=col>grass3</th></tr></thead>\n",
       "<tbody>\n",
       "\t<tr><th scope=row>1</th><td>33.46681</td><td>55.24240</td><td>14.93716</td></tr>\n",
       "\t<tr><th scope=row>2</th><td>17.79230</td><td>63.68932</td><td>40.28856</td></tr>\n",
       "\t<tr><th scope=row>3</th><td>30.0747643</td><td> 0.1559771</td><td>58.5043044</td></tr>\n",
       "</tbody>\n",
       "</table>\n"
      ],
      "text/latex": [
       "\\begin{tabular}{r|lll}\n",
       "  & grass1 & grass2 & grass3\\\\\n",
       "\\hline\n",
       "\t1 & 33.46681 & 55.24240 & 14.93716\\\\\n",
       "\t2 & 17.79230 & 63.68932 & 40.28856\\\\\n",
       "\t3 & 30.0747643 &  0.1559771 & 58.5043044\\\\\n",
       "\\end{tabular}\n"
      ],
      "text/markdown": [
       "1. 33.4668081027298\n",
       "2. 17.7923042741783\n",
       "3. 30.0747642856223\n",
       "4. 55.2423974643016\n",
       "5. 63.6893197910421\n",
       "6. 0.155977050651207\n",
       "7. 14.9371590684131\n",
       "8. 40.2885573051716\n",
       "9. 58.5043044092022\n",
       "\n",
       "\n"
      ],
      "text/plain": [
       "    grass1     grass2   grass3\n",
       "1 33.46681 55.2423975 14.93716\n",
       "2 17.79230 63.6893198 40.28856\n",
       "3 30.07476  0.1559771 58.50430"
      ]
     },
     "metadata": {},
     "output_type": "display_data"
    }
   ],
   "source": [
    "dists <- gDistance(g, p, byid=TRUE); dists "
   ]
  },
  {
   "cell_type": "markdown",
   "metadata": {},
   "source": [
    "We can then find the minimums of each row, and average all of these to get a representative statistic for the distances between mushrooms and grasses, in this plot. "
   ]
  },
  {
   "cell_type": "code",
   "execution_count": 62,
   "metadata": {
    "collapsed": false
   },
   "outputs": [
    {
     "data": {
      "text/html": [
       "<dl class=dl-horizontal>\n",
       "\t<dt>1</dt>\n",
       "\t\t<dd>14.9371590684131</dd>\n",
       "\t<dt>2</dt>\n",
       "\t\t<dd>17.7923042741783</dd>\n",
       "\t<dt>3</dt>\n",
       "\t\t<dd>0.155977050651207</dd>\n",
       "</dl>\n"
      ],
      "text/latex": [
       "\\begin{description*}\n",
       "\\item[1] 14.9371590684131\n",
       "\\item[2] 17.7923042741783\n",
       "\\item[3] 0.155977050651207\n",
       "\\end{description*}\n"
      ],
      "text/markdown": [
       "1\n",
       ":   14.93715906841312\n",
       ":   17.79230427417833\n",
       ":   0.155977050651207\n",
       "\n"
      ],
      "text/plain": [
       "         1          2          3 \n",
       "14.9371591 17.7923043  0.1559771 "
      ]
     },
     "metadata": {},
     "output_type": "display_data"
    }
   ],
   "source": [
    "mindists <- apply(dists, MARGIN = 1, FUN = min)\n",
    "avgmindists <- mean(mindists)\n",
    "mindists"
   ]
  },
  {
   "cell_type": "code",
   "execution_count": 63,
   "metadata": {
    "collapsed": false
   },
   "outputs": [
    {
     "data": {
      "text/html": [
       "10.9618134644142"
      ],
      "text/latex": [
       "10.9618134644142"
      ],
      "text/markdown": [
       "10.9618134644142"
      ],
      "text/plain": [
       "[1] 10.96181"
      ]
     },
     "metadata": {},
     "output_type": "display_data"
    }
   ],
   "source": [
    "\n",
    "avgmindists"
   ]
  },
  {
   "cell_type": "markdown",
   "metadata": {},
   "source": [
    "In this plot, on average, the nearest grass clump is 10.96 cm away from any given mushroom. Let's condense this process into a function:"
   ]
  },
  {
   "cell_type": "code",
   "execution_count": 64,
   "metadata": {
    "collapsed": true
   },
   "outputs": [],
   "source": [
    "avgNN <- function(grasses, mushrooms) {\n",
    "        dists <- gDistance(grasses, mushrooms, byid=TRUE)\n",
    "        mindists <- apply(dists, MARGIN=1, min)\n",
    "        avgmindists <- mean(mindists)\n",
    "        return(avgmindists)}"
   ]
  },
  {
   "cell_type": "markdown",
   "metadata": {},
   "source": [
    "This will take our digitized mushroom and grass objects and tell us the average nearest neighbor distances between them:"
   ]
  },
  {
   "cell_type": "code",
   "execution_count": 66,
   "metadata": {
    "collapsed": false
   },
   "outputs": [
    {
     "data": {
      "text/html": [
       "10.9618134644142"
      ],
      "text/latex": [
       "10.9618134644142"
      ],
      "text/markdown": [
       "10.9618134644142"
      ],
      "text/plain": [
       "[1] 10.96181"
      ]
     },
     "metadata": {},
     "output_type": "display_data"
    }
   ],
   "source": [
    " avgNN(grasses=g, mushrooms=p) "
   ]
  },
  {
   "cell_type": "markdown",
   "metadata": {},
   "source": [
    "## Simulations"
   ]
  },
  {
   "cell_type": "markdown",
   "metadata": {},
   "source": [
    "Now we test how often we get this distance or closer with the same spatial distribution of grass clumps, but with the same number of mushrooms, placed randomly over the plot. To generate a new set of mushrooms:"
   ]
  },
  {
   "cell_type": "code",
   "execution_count": null,
   "metadata": {
    "collapsed": true
   },
   "outputs": [],
   "source": [
    "yardstick = seq(from = 0, to = 100, by = 0.01)\n",
    "\n",
    "xx <- sample(yardstick, size = length(p))\n",
    "yy <- sample(yardstick, size = length(p))\n",
    "p.random <- SpatialPoints(cbind(xx,yy))"
   ]
  },
  {
   "cell_type": "markdown",
   "metadata": {},
   "source": [
    "We can condense turn this process into another function, that makes random sets of mushrooms of equal length to our actual mushrooms object:"
   ]
  },
  {
   "cell_type": "code",
   "execution_count": 73,
   "metadata": {
    "collapsed": true
   },
   "outputs": [],
   "source": [
    "mushrooms.random <- function(mushrooms){\n",
    "        yardstick <- seq(from = 0,to = 100, by = 0.01)\n",
    "        xx <- sample(yardstick, size = length(mushrooms))\n",
    "        yy <- sample(yardstick, size = length(mushrooms))\n",
    "        p.random <- SpatialPoints(cbind(xx,yy))\n",
    "        return(p.random)\n",
    "}"
   ]
  },
  {
   "cell_type": "markdown",
   "metadata": {},
   "source": [
    "Try it out:"
   ]
  },
  {
   "cell_type": "code",
   "execution_count": 74,
   "metadata": {
    "collapsed": true
   },
   "outputs": [],
   "source": [
    "p.random <- mushrooms.random(mushrooms=p)"
   ]
  },
  {
   "cell_type": "markdown",
   "metadata": {},
   "source": [
    "What do these look like?"
   ]
  },
  {
   "cell_type": "code",
   "execution_count": 77,
   "metadata": {
    "collapsed": false
   },
   "outputs": [
    {
     "data": {
      "image/png": "[encoded data removed]",
      "image/svg+xml": [
       "<?xml version=\"1.0\" encoding=\"UTF-8\"?>\n",
       "<svg xmlns=\"http://www.w3.org/2000/svg\" xmlns:xlink=\"http://www.w3.org/1999/xlink\" width=\"360pt\" height=\"360pt\" viewBox=\"0 0 360 360\" version=\"1.1\">\n",
       "<defs>\n",
       "<g>\n",
       "<symbol overflow=\"visible\" id=\"glyph0-0\">\n",
       "<path style=\"stroke:none;\" d=\"\"/>\n",
       "</symbol>\n",
       "<symbol overflow=\"visible\" id=\"glyph0-1\">\n",
       "<path style=\"stroke:none;\" d=\"M 6.21875 -4.21875 C 6.21875 -7.171875 5.140625 -8.765625 3.296875 -8.765625 C 1.46875 -8.765625 0.375 -7.15625 0.375 -4.296875 C 0.375 -1.421875 1.46875 0.1875 3.296875 0.1875 C 5.09375 0.1875 6.21875 -1.421875 6.21875 -4.21875 Z M 4.859375 -4.3125 C 4.859375 -1.90625 4.453125 -0.953125 3.28125 -0.953125 C 2.15625 -0.953125 1.734375 -1.953125 1.734375 -4.28125 C 1.734375 -6.609375 2.15625 -7.578125 3.296875 -7.578125 C 4.4375 -7.578125 4.859375 -6.59375 4.859375 -4.3125 Z M 4.859375 -4.3125 \"/>\n",
       "</symbol>\n",
       "<symbol overflow=\"visible\" id=\"glyph0-2\">\n",
       "<path style=\"stroke:none;\" d=\"M 6.265625 -6.140625 C 6.265625 -7.578125 5.015625 -8.765625 3.40625 -8.765625 C 1.671875 -8.765625 0.515625 -7.75 0.453125 -5.5625 L 1.78125 -5.5625 C 1.875 -7.109375 2.328125 -7.578125 3.375 -7.578125 C 4.328125 -7.578125 4.90625 -7.03125 4.90625 -6.125 C 4.90625 -5.453125 4.546875 -4.96875 3.796875 -4.53125 L 2.6875 -3.90625 C 0.90625 -2.90625 0.359375 -2 0.25 0 L 6.203125 0 L 6.203125 -1.3125 L 1.75 -1.3125 C 1.84375 -1.875 2.1875 -2.21875 3.234375 -2.828125 L 4.421875 -3.484375 C 5.609375 -4.109375 6.265625 -5.09375 6.265625 -6.140625 Z M 6.265625 -6.140625 \"/>\n",
       "</symbol>\n",
       "<symbol overflow=\"visible\" id=\"glyph0-3\">\n",
       "<path style=\"stroke:none;\" d=\"M 6.375 -2.171875 L 6.375 -3.25 L 5.109375 -3.25 L 5.109375 -8.765625 L 4.125 -8.765625 L 0.1875 -3.328125 L 0.1875 -2.046875 L 3.78125 -2.046875 L 3.78125 0 L 5.109375 0 L 5.109375 -2.046875 L 6.375 -2.046875 Z M 3.921875 -3.25 L 1.515625 -3.25 L 4.015625 -6.75 L 3.78125 -6.84375 L 3.78125 -3.25 Z M 3.921875 -3.25 \"/>\n",
       "</symbol>\n",
       "<symbol overflow=\"visible\" id=\"glyph0-4\">\n",
       "<path style=\"stroke:none;\" d=\"M 6.28125 -2.765625 C 6.28125 -4.359375 5.078125 -5.5625 3.546875 -5.5625 C 2.71875 -5.5625 1.9375 -5.203125 1.484375 -4.578125 L 1.734375 -4.46875 C 1.734375 -6.546875 2.28125 -7.578125 3.484375 -7.578125 C 4.234375 -7.578125 4.609375 -7.234375 4.796875 -6.28125 L 6.125 -6.28125 C 5.90625 -7.8125 4.859375 -8.765625 3.5625 -8.765625 C 1.578125 -8.765625 0.375 -6.96875 0.375 -4.015625 C 0.375 -1.359375 1.421875 0.1875 3.375 0.1875 C 4.984375 0.1875 6.28125 -1.109375 6.28125 -2.765625 Z M 4.9375 -2.6875 C 4.9375 -1.625 4.359375 -1.015625 3.390625 -1.015625 C 2.40625 -1.015625 1.78125 -1.65625 1.78125 -2.75 C 1.78125 -3.796875 2.375 -4.359375 3.421875 -4.359375 C 4.4375 -4.359375 4.9375 -3.828125 4.9375 -2.6875 Z M 4.9375 -2.6875 \"/>\n",
       "</symbol>\n",
       "<symbol overflow=\"visible\" id=\"glyph0-5\">\n",
       "<path style=\"stroke:none;\" d=\"M 6.28125 -2.53125 C 6.28125 -3.484375 5.671875 -4.265625 4.953125 -4.625 C 5.65625 -5.046875 5.984375 -5.5625 5.984375 -6.375 C 5.984375 -7.703125 4.8125 -8.765625 3.296875 -8.765625 C 1.796875 -8.765625 0.59375 -7.703125 0.59375 -6.375 C 0.59375 -5.578125 0.921875 -5.046875 1.625 -4.625 C 0.921875 -4.265625 0.296875 -3.484375 0.296875 -2.546875 C 0.296875 -0.984375 1.625 0.1875 3.296875 0.1875 C 4.984375 0.1875 6.28125 -0.984375 6.28125 -2.53125 Z M 4.625 -6.34375 C 4.625 -5.5625 4.1875 -5.15625 3.296875 -5.15625 C 2.40625 -5.15625 1.953125 -5.5625 1.953125 -6.359375 C 1.953125 -7.171875 2.40625 -7.578125 3.296875 -7.578125 C 4.203125 -7.578125 4.625 -7.171875 4.625 -6.34375 Z M 4.9375 -2.515625 C 4.9375 -1.515625 4.359375 -1.015625 3.28125 -1.015625 C 2.25 -1.015625 1.65625 -1.53125 1.65625 -2.515625 C 1.65625 -3.515625 2.25 -4.015625 3.296875 -4.015625 C 4.359375 -4.015625 4.9375 -3.515625 4.9375 -2.515625 Z M 4.9375 -2.515625 \"/>\n",
       "</symbol>\n",
       "<symbol overflow=\"visible\" id=\"glyph0-6\">\n",
       "<path style=\"stroke:none;\" d=\"M 4.296875 -0.125 L 4.296875 -8.765625 L 3.359375 -8.765625 C 2.953125 -7.328125 2.859375 -7.28125 1.078125 -7.0625 L 1.078125 -6.0625 L 2.96875 -6.0625 L 2.96875 0 L 4.296875 0 Z M 4.296875 -0.125 \"/>\n",
       "</symbol>\n",
       "<symbol overflow=\"visible\" id=\"glyph1-0\">\n",
       "<path style=\"stroke:none;\" d=\"\"/>\n",
       "</symbol>\n",
       "<symbol overflow=\"visible\" id=\"glyph1-1\">\n",
       "<path style=\"stroke:none;\" d=\"M -4.21875 -6.21875 C -7.171875 -6.21875 -8.765625 -5.140625 -8.765625 -3.296875 C -8.765625 -1.46875 -7.15625 -0.375 -4.296875 -0.375 C -1.421875 -0.375 0.1875 -1.46875 0.1875 -3.296875 C 0.1875 -5.09375 -1.421875 -6.21875 -4.21875 -6.21875 Z M -4.3125 -4.859375 C -1.90625 -4.859375 -0.953125 -4.453125 -0.953125 -3.28125 C -0.953125 -2.15625 -1.953125 -1.734375 -4.28125 -1.734375 C -6.609375 -1.734375 -7.578125 -2.15625 -7.578125 -3.296875 C -7.578125 -4.4375 -6.59375 -4.859375 -4.3125 -4.859375 Z M -4.3125 -4.859375 \"/>\n",
       "</symbol>\n",
       "<symbol overflow=\"visible\" id=\"glyph1-2\">\n",
       "<path style=\"stroke:none;\" d=\"M -6.140625 -6.265625 C -7.578125 -6.265625 -8.765625 -5.015625 -8.765625 -3.40625 C -8.765625 -1.671875 -7.75 -0.515625 -5.5625 -0.453125 L -5.5625 -1.78125 C -7.109375 -1.875 -7.578125 -2.328125 -7.578125 -3.375 C -7.578125 -4.328125 -7.03125 -4.90625 -6.125 -4.90625 C -5.453125 -4.90625 -4.96875 -4.546875 -4.53125 -3.796875 L -3.90625 -2.6875 C -2.90625 -0.90625 -2 -0.359375 0 -0.25 L 0 -6.203125 L -1.3125 -6.203125 L -1.3125 -1.75 C -1.875 -1.84375 -2.21875 -2.1875 -2.828125 -3.234375 L -3.484375 -4.421875 C -4.109375 -5.609375 -5.09375 -6.265625 -6.140625 -6.265625 Z M -6.140625 -6.265625 \"/>\n",
       "</symbol>\n",
       "<symbol overflow=\"visible\" id=\"glyph1-3\">\n",
       "<path style=\"stroke:none;\" d=\"M -2.171875 -6.375 L -3.25 -6.375 L -3.25 -5.109375 L -8.765625 -5.109375 L -8.765625 -4.125 L -3.328125 -0.1875 L -2.046875 -0.1875 L -2.046875 -3.78125 L 0 -3.78125 L 0 -5.109375 L -2.046875 -5.109375 L -2.046875 -6.375 Z M -3.25 -3.921875 L -3.25 -1.515625 L -6.75 -4.015625 L -6.84375 -3.78125 L -3.25 -3.78125 Z M -3.25 -3.921875 \"/>\n",
       "</symbol>\n",
       "<symbol overflow=\"visible\" id=\"glyph1-4\">\n",
       "<path style=\"stroke:none;\" d=\"M -2.765625 -6.28125 C -4.359375 -6.28125 -5.5625 -5.078125 -5.5625 -3.546875 C -5.5625 -2.71875 -5.203125 -1.9375 -4.578125 -1.484375 L -4.46875 -1.734375 C -6.546875 -1.734375 -7.578125 -2.28125 -7.578125 -3.484375 C -7.578125 -4.234375 -7.234375 -4.609375 -6.28125 -4.796875 L -6.28125 -6.125 C -7.8125 -5.90625 -8.765625 -4.859375 -8.765625 -3.5625 C -8.765625 -1.578125 -6.96875 -0.375 -4.015625 -0.375 C -1.359375 -0.375 0.1875 -1.421875 0.1875 -3.375 C 0.1875 -4.984375 -1.109375 -6.28125 -2.765625 -6.28125 Z M -2.6875 -4.9375 C -1.625 -4.9375 -1.015625 -4.359375 -1.015625 -3.390625 C -1.015625 -2.40625 -1.65625 -1.78125 -2.75 -1.78125 C -3.796875 -1.78125 -4.359375 -2.375 -4.359375 -3.421875 C -4.359375 -4.4375 -3.828125 -4.9375 -2.6875 -4.9375 Z M -2.6875 -4.9375 \"/>\n",
       "</symbol>\n",
       "<symbol overflow=\"visible\" id=\"glyph1-5\">\n",
       "<path style=\"stroke:none;\" d=\"M -2.53125 -6.28125 C -3.484375 -6.28125 -4.265625 -5.671875 -4.625 -4.953125 C -5.046875 -5.65625 -5.5625 -5.984375 -6.375 -5.984375 C -7.703125 -5.984375 -8.765625 -4.8125 -8.765625 -3.296875 C -8.765625 -1.796875 -7.703125 -0.59375 -6.375 -0.59375 C -5.578125 -0.59375 -5.046875 -0.921875 -4.625 -1.625 C -4.265625 -0.921875 -3.484375 -0.296875 -2.546875 -0.296875 C -0.984375 -0.296875 0.1875 -1.625 0.1875 -3.296875 C 0.1875 -4.984375 -0.984375 -6.28125 -2.53125 -6.28125 Z M -6.34375 -4.625 C -5.5625 -4.625 -5.15625 -4.1875 -5.15625 -3.296875 C -5.15625 -2.40625 -5.5625 -1.953125 -6.359375 -1.953125 C -7.171875 -1.953125 -7.578125 -2.40625 -7.578125 -3.296875 C -7.578125 -4.203125 -7.171875 -4.625 -6.34375 -4.625 Z M -2.515625 -4.9375 C -1.515625 -4.9375 -1.015625 -4.359375 -1.015625 -3.28125 C -1.015625 -2.25 -1.53125 -1.65625 -2.515625 -1.65625 C -3.515625 -1.65625 -4.015625 -2.25 -4.015625 -3.296875 C -4.015625 -4.359375 -3.515625 -4.9375 -2.515625 -4.9375 Z M -2.515625 -4.9375 \"/>\n",
       "</symbol>\n",
       "<symbol overflow=\"visible\" id=\"glyph1-6\">\n",
       "<path style=\"stroke:none;\" d=\"M -0.125 -4.296875 L -8.765625 -4.296875 L -8.765625 -3.359375 C -7.328125 -2.953125 -7.28125 -2.859375 -7.0625 -1.078125 L -6.0625 -1.078125 L -6.0625 -2.96875 L 0 -2.96875 L 0 -4.296875 Z M -0.125 -4.296875 \"/>\n",
       "</symbol>\n",
       "</g>\n",
       "</defs>\n",
       "<g id=\"surface170\">\n",
       "<rect x=\"0\" y=\"0\" width=\"360\" height=\"360\" style=\"fill:rgb(100%,100%,100%);fill-opacity:1;stroke:none;\"/>\n",
       "<path style=\"fill-rule:nonzero;fill:rgb(0%,100%,0%);fill-opacity:1;stroke-width:1.5;stroke-linecap:round;stroke-linejoin:round;stroke:rgb(0%,0%,0%);stroke-opacity:1;stroke-miterlimit:10;\" d=\"M 158.519531 101.515625 L 173.332031 135.109375 L 126.011719 156.738281 L 105.4375 124.066406 L 132.183594 94.613281 Z M 158.519531 101.515625 \"/>\n",
       "<path style=\"fill-rule:nonzero;fill:rgb(0%,100%,0%);fill-opacity:1;stroke-width:1.5;stroke-linecap:round;stroke-linejoin:round;stroke:rgb(0%,0%,0%);stroke-opacity:1;stroke-miterlimit:10;\" d=\"M 232.171875 253.839844 L 251.097656 263.960938 L 230.9375 277.308594 L 196.375 277.769531 L 145.351562 278.230469 L 126.835938 270.867188 L 141.648438 257.058594 L 189.378906 252.917969 Z M 232.171875 253.839844 \"/>\n",
       "<path style=\"fill-rule:nonzero;fill:rgb(0%,100%,0%);fill-opacity:1;stroke-width:1.5;stroke-linecap:round;stroke-linejoin:round;stroke:rgb(0%,0%,0%);stroke-opacity:1;stroke-miterlimit:10;\" d=\"M 250.6875 121.304688 L 274.554688 125.90625 L 284.015625 162.261719 L 250.6875 181.589844 L 226 138.332031 Z M 250.6875 121.304688 \"/>\n",
       "<path style=\" stroke:none;fill-rule:nonzero;fill:rgb(100%,0%,0%);fill-opacity:1;\" d=\"M 141.734375 217.070312 L 149.007812 229.664062 L 134.460938 229.664062 Z M 141.734375 217.070312 \"/>\n",
       "<path style=\" stroke:none;fill-rule:nonzero;fill:rgb(100%,0%,0%);fill-opacity:1;\" d=\"M 99.601562 174.9375 L 106.871094 187.53125 L 92.328125 187.53125 Z M 99.601562 174.9375 \"/>\n",
       "<path style=\" stroke:none;fill-rule:nonzero;fill:rgb(100%,0%,0%);fill-opacity:1;\" d=\"M 236.535156 122.269531 L 243.804688 134.867188 L 229.261719 134.867188 Z M 236.535156 122.269531 \"/>\n",
       "<path style=\"fill:none;stroke-width:0.75;stroke-linecap:round;stroke-linejoin:round;stroke:rgb(0%,0%,0%);stroke-opacity:1;stroke-miterlimit:10;\" d=\"M 89.066406 278.132812 L 299.734375 278.132812 \"/>\n",
       "<path style=\"fill:none;stroke-width:0.75;stroke-linecap:round;stroke-linejoin:round;stroke:rgb(0%,0%,0%);stroke-opacity:1;stroke-miterlimit:10;\" d=\"M 89.066406 278.132812 L 89.066406 285.332031 \"/>\n",
       "<path style=\"fill:none;stroke-width:0.75;stroke-linecap:round;stroke-linejoin:round;stroke:rgb(0%,0%,0%);stroke-opacity:1;stroke-miterlimit:10;\" d=\"M 131.199219 278.132812 L 131.199219 285.332031 \"/>\n",
       "<path style=\"fill:none;stroke-width:0.75;stroke-linecap:round;stroke-linejoin:round;stroke:rgb(0%,0%,0%);stroke-opacity:1;stroke-miterlimit:10;\" d=\"M 173.332031 278.132812 L 173.332031 285.332031 \"/>\n",
       "<path style=\"fill:none;stroke-width:0.75;stroke-linecap:round;stroke-linejoin:round;stroke:rgb(0%,0%,0%);stroke-opacity:1;stroke-miterlimit:10;\" d=\"M 215.464844 278.132812 L 215.464844 285.332031 \"/>\n",
       "<path style=\"fill:none;stroke-width:0.75;stroke-linecap:round;stroke-linejoin:round;stroke:rgb(0%,0%,0%);stroke-opacity:1;stroke-miterlimit:10;\" d=\"M 257.601562 278.132812 L 257.601562 285.332031 \"/>\n",
       "<path style=\"fill:none;stroke-width:0.75;stroke-linecap:round;stroke-linejoin:round;stroke:rgb(0%,0%,0%);stroke-opacity:1;stroke-miterlimit:10;\" d=\"M 299.734375 278.132812 L 299.734375 285.332031 \"/>\n",
       "<g style=\"fill:rgb(0%,0%,0%);fill-opacity:1;\">\n",
       "  <use xlink:href=\"#glyph0-1\" x=\"85.566406\" y=\"303.831055\"/>\n",
       "</g>\n",
       "<g style=\"fill:rgb(0%,0%,0%);fill-opacity:1;\">\n",
       "  <use xlink:href=\"#glyph0-2\" x=\"124.199219\" y=\"303.831055\"/>\n",
       "  <use xlink:href=\"#glyph0-1\" x=\"130.871094\" y=\"303.831055\"/>\n",
       "</g>\n",
       "<g style=\"fill:rgb(0%,0%,0%);fill-opacity:1;\">\n",
       "  <use xlink:href=\"#glyph0-3\" x=\"166.332031\" y=\"303.831055\"/>\n",
       "  <use xlink:href=\"#glyph0-1\" x=\"173.003906\" y=\"303.831055\"/>\n",
       "</g>\n",
       "<g style=\"fill:rgb(0%,0%,0%);fill-opacity:1;\">\n",
       "  <use xlink:href=\"#glyph0-4\" x=\"208.464844\" y=\"303.831055\"/>\n",
       "  <use xlink:href=\"#glyph0-1\" x=\"215.136719\" y=\"303.831055\"/>\n",
       "</g>\n",
       "<g style=\"fill:rgb(0%,0%,0%);fill-opacity:1;\">\n",
       "  <use xlink:href=\"#glyph0-5\" x=\"250.601562\" y=\"303.831055\"/>\n",
       "  <use xlink:href=\"#glyph0-1\" x=\"257.273438\" y=\"303.831055\"/>\n",
       "</g>\n",
       "<g style=\"fill:rgb(0%,0%,0%);fill-opacity:1;\">\n",
       "  <use xlink:href=\"#glyph0-6\" x=\"289.234375\" y=\"303.831055\"/>\n",
       "  <use xlink:href=\"#glyph0-1\" x=\"295.90625\" y=\"303.831055\"/>\n",
       "  <use xlink:href=\"#glyph0-1\" x=\"302.578125\" y=\"303.831055\"/>\n",
       "</g>\n",
       "<path style=\"fill:none;stroke-width:0.75;stroke-linecap:round;stroke-linejoin:round;stroke:rgb(0%,0%,0%);stroke-opacity:1;stroke-miterlimit:10;\" d=\"M 89.066406 278.132812 L 89.066406 67.464844 \"/>\n",
       "<path style=\"fill:none;stroke-width:0.75;stroke-linecap:round;stroke-linejoin:round;stroke:rgb(0%,0%,0%);stroke-opacity:1;stroke-miterlimit:10;\" d=\"M 89.066406 278.132812 L 81.867188 278.132812 \"/>\n",
       "<path style=\"fill:none;stroke-width:0.75;stroke-linecap:round;stroke-linejoin:round;stroke:rgb(0%,0%,0%);stroke-opacity:1;stroke-miterlimit:10;\" d=\"M 89.066406 236 L 81.867188 236 \"/>\n",
       "<path style=\"fill:none;stroke-width:0.75;stroke-linecap:round;stroke-linejoin:round;stroke:rgb(0%,0%,0%);stroke-opacity:1;stroke-miterlimit:10;\" d=\"M 89.066406 193.867188 L 81.867188 193.867188 \"/>\n",
       "<path style=\"fill:none;stroke-width:0.75;stroke-linecap:round;stroke-linejoin:round;stroke:rgb(0%,0%,0%);stroke-opacity:1;stroke-miterlimit:10;\" d=\"M 89.066406 151.734375 L 81.867188 151.734375 \"/>\n",
       "<path style=\"fill:none;stroke-width:0.75;stroke-linecap:round;stroke-linejoin:round;stroke:rgb(0%,0%,0%);stroke-opacity:1;stroke-miterlimit:10;\" d=\"M 89.066406 109.601562 L 81.867188 109.601562 \"/>\n",
       "<path style=\"fill:none;stroke-width:0.75;stroke-linecap:round;stroke-linejoin:round;stroke:rgb(0%,0%,0%);stroke-opacity:1;stroke-miterlimit:10;\" d=\"M 89.066406 67.464844 L 81.867188 67.464844 \"/>\n",
       "<g style=\"fill:rgb(0%,0%,0%);fill-opacity:1;\">\n",
       "  <use xlink:href=\"#glyph1-1\" x=\"71.561523\" y=\"281.632812\"/>\n",
       "</g>\n",
       "<g style=\"fill:rgb(0%,0%,0%);fill-opacity:1;\">\n",
       "  <use xlink:href=\"#glyph1-2\" x=\"71.561523\" y=\"243\"/>\n",
       "  <use xlink:href=\"#glyph1-1\" x=\"71.561523\" y=\"236.328125\"/>\n",
       "</g>\n",
       "<g style=\"fill:rgb(0%,0%,0%);fill-opacity:1;\">\n",
       "  <use xlink:href=\"#glyph1-3\" x=\"71.561523\" y=\"200.867188\"/>\n",
       "  <use xlink:href=\"#glyph1-1\" x=\"71.561523\" y=\"194.195312\"/>\n",
       "</g>\n",
       "<g style=\"fill:rgb(0%,0%,0%);fill-opacity:1;\">\n",
       "  <use xlink:href=\"#glyph1-4\" x=\"71.561523\" y=\"158.734375\"/>\n",
       "  <use xlink:href=\"#glyph1-1\" x=\"71.561523\" y=\"152.0625\"/>\n",
       "</g>\n",
       "<g style=\"fill:rgb(0%,0%,0%);fill-opacity:1;\">\n",
       "  <use xlink:href=\"#glyph1-5\" x=\"71.561523\" y=\"116.601562\"/>\n",
       "  <use xlink:href=\"#glyph1-1\" x=\"71.561523\" y=\"109.929688\"/>\n",
       "</g>\n",
       "<g style=\"fill:rgb(0%,0%,0%);fill-opacity:1;\">\n",
       "  <use xlink:href=\"#glyph1-6\" x=\"71.561523\" y=\"77.964844\"/>\n",
       "  <use xlink:href=\"#glyph1-1\" x=\"71.561523\" y=\"71.292969\"/>\n",
       "  <use xlink:href=\"#glyph1-1\" x=\"71.561523\" y=\"64.621094\"/>\n",
       "</g>\n",
       "<path style=\"fill-rule:nonzero;fill:rgb(0%,0%,100%);fill-opacity:1;stroke-width:0.75;stroke-linecap:round;stroke-linejoin:round;stroke:rgb(0%,0%,100%);stroke-opacity:1;stroke-miterlimit:10;\" d=\"M 276.050781 172.925781 C 276.050781 177.726562 268.851562 177.726562 268.851562 172.925781 C 268.851562 168.125 276.050781 168.125 276.050781 172.925781 \"/>\n",
       "<path style=\"fill-rule:nonzero;fill:rgb(0%,0%,100%);fill-opacity:1;stroke-width:0.75;stroke-linecap:round;stroke-linejoin:round;stroke:rgb(0%,0%,100%);stroke-opacity:1;stroke-miterlimit:10;\" d=\"M 142.847656 199.933594 C 142.847656 204.734375 135.648438 204.734375 135.648438 199.933594 C 135.648438 195.132812 142.847656 195.132812 142.847656 199.933594 \"/>\n",
       "<path style=\"fill-rule:nonzero;fill:rgb(0%,0%,100%);fill-opacity:1;stroke-width:0.75;stroke-linecap:round;stroke-linejoin:round;stroke:rgb(0%,0%,100%);stroke-opacity:1;stroke-miterlimit:10;\" d=\"M 270.257812 274.53125 C 270.257812 279.332031 263.058594 279.332031 263.058594 274.53125 C 263.058594 269.730469 270.257812 269.730469 270.257812 274.53125 \"/>\n",
       "</g>\n",
       "</svg>\n"
      ],
      "text/plain": [
       "plot without title"
      ]
     },
     "metadata": {
      "image/svg+xml": {
       "isolated": true
      }
     },
     "output_type": "display_data"
    }
   ],
   "source": [
    "plot(g, lwd = 2, xlim = c(0,100), ylim = c(0,100), col = 'green')\n",
    "plot(p, pch = 17, col = 'red', cex = 2, add = TRUE)\n",
    "axis(1, pos = 0)\n",
    "axis(2, pos = 0, at = c(0,100), labels = c('',''), lwd.ticks=0)\n",
    "axis(2, pos = 0, at=seq(0,100, by = 20), lwd=0, lwd.ticks=1)\n",
    "plot(p.random, add=TRUE, col = 'blue', pch = 20, cex = 2)"
   ]
  },
  {
   "cell_type": "markdown",
   "metadata": {},
   "source": [
    "(New, random mushrooms are blue dots)"
   ]
  },
  {
   "cell_type": "markdown",
   "metadata": {},
   "source": [
    "We can use our function from above to see the average distance between nearest mushrooms and grasses in this random set of mushrooms:"
   ]
  },
  {
   "cell_type": "code",
   "execution_count": 76,
   "metadata": {
    "collapsed": false
   },
   "outputs": [
    {
     "data": {
      "text/html": [
       "10.6663599651934"
      ],
      "text/latex": [
       "10.6663599651934"
      ],
      "text/markdown": [
       "10.6663599651934"
      ],
      "text/plain": [
       "[1] 10.66636"
      ]
     },
     "metadata": {},
     "output_type": "display_data"
    }
   ],
   "source": [
    "avgNN(grasses=g, mushrooms=p.random)"
   ]
  },
  {
   "cell_type": "markdown",
   "metadata": {},
   "source": [
    "So now we need to generate a lot of these random sets of mushrooms, and see how often they fall as close or closer to grasses. Do this with a function, with an output in the form of  probability seeing an observed average distance result or closer:"
   ]
  },
  {
   "cell_type": "code",
   "execution_count": 78,
   "metadata": {
    "collapsed": true
   },
   "outputs": [],
   "source": [
    "getpval <- function(grasses, mushrooms, iterations) {\n",
    "        avgNN.obs <- avgNN(grasses=grasses, mushrooms=mushrooms)\n",
    "        avgNN.ran <- NULL\n",
    "        for(i in 1:iterations){\n",
    "                avgNN.ran[i] <- avgNN(grasses=grasses, mushrooms = mushrooms.random(mushrooms=mushrooms))}\n",
    "        pval <- sum(avgNN.ran <= avgNN.obs)/ length(avgNN.ran)\n",
    "        return(pval)\n",
    "        }\n"
   ]
  },
  {
   "cell_type": "markdown",
   "metadata": {},
   "source": [
    "So for example, with the above set of grasses, mushrooms, and 5000 iterations: "
   ]
  },
  {
   "cell_type": "code",
   "execution_count": 81,
   "metadata": {
    "collapsed": false
   },
   "outputs": [
    {
     "data": {
      "text/html": [
       "0.5304"
      ],
      "text/latex": [
       "0.5304"
      ],
      "text/markdown": [
       "0.5304"
      ],
      "text/plain": [
       "[1] 0.5304"
      ]
     },
     "metadata": {},
     "output_type": "display_data"
    }
   ],
   "source": [
    "getpval(grasses=g,mushrooms=p,iterations=5000)"
   ]
  },
  {
   "cell_type": "markdown",
   "metadata": {},
   "source": [
    "If mushrooms are distributed completely spatially randomly, ~53% of the time we expect to see that mushrooms are as close to grasses as we observed, or closer.\n",
    "\n",
    "Now we repeat this for all of our actual digitized plots, correct for multiple tests (FDR/Benjamini-Hochberg), and see if a trend emerges."
   ]
  },
  {
   "cell_type": "code",
   "execution_count": null,
   "metadata": {
    "collapsed": true
   },
   "outputs": [],
   "source": []
  }
 ],
 "metadata": {
  "kernelspec": {
   "display_name": "R 3.3",
   "language": "R",
   "name": "ir33"
  },
  "language_info": {
   "codemirror_mode": "r",
   "file_extension": ".r",
   "mimetype": "text/x-r-source",
   "name": "R",
   "pygments_lexer": "r",
   "version": "3.3.1"
  }
 },
 "nbformat": 4,
 "nbformat_minor": 0
}
