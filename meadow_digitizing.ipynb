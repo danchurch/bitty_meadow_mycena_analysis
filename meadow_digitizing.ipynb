{
 "cells": [
  {
   "cell_type": "markdown",
   "metadata": {},
   "source": [
    "<a id='start'></a>"
   ]
  },
  {
   "cell_type": "markdown",
   "metadata": {},
   "source": [
    "# Digitizing protocol for Bitty's *Mycena* spatial analysis"
   ]
  },
  {
   "cell_type": "markdown",
   "metadata": {},
   "source": [
    "This is a record of our point pattern analysis of Bitty's *Mycena* plots from the West Eugene Wetlands. \n",
    "\n",
    "A sample photo looks like this:"
   ]
  },
  {
   "cell_type": "markdown",
   "metadata": {},
   "source": [
    "<img src='P3_06_sample.jpg', width=350,height=350>"
   ]
  },
  {
   "cell_type": "markdown",
   "metadata": {},
   "source": [
    "I used [GIMP](www.gimp.org) to correct perspective, trim borders, and convert to .png format (don't know why, just prefer this to jpeg), resulting in:"
   ]
  },
  {
   "cell_type": "markdown",
   "metadata": {},
   "source": [
    "<img src=\"P3_06.png\", width=350,height=350>"
   ]
  },
  {
   "cell_type": "markdown",
   "metadata": {},
   "source": [
    "This was done for all 18 plots. We can feed these into **R**:"
   ]
  },
  {
   "cell_type": "code",
   "execution_count": 2,
   "metadata": {
    "collapsed": true
   },
   "outputs": [],
   "source": [
    "## raster graphic reader of choice:\n",
    "library('png')\n",
    "library('sp')\n",
    "library('repr')\n",
    "\n",
    "## set our working directory:\n",
    "setwd('/home/daniel/Documents/Bitty_meadow_analysis/analysis')\n",
    "\n",
    "## assign a variable name for the path to our photo directory:\n",
    "mdir <- '/home/daniel/Documents/Bitty_meadow_analysis/photos_mod/'\n",
    "\n",
    "## get all of our file names into one object, still in R environment\n",
    "## but using system() command\n",
    "photolist <- system('ls /home/daniel/Documents/Bitty_meadow_analysis/photos_mod', intern=TRUE)\n",
    "\n",
    "## read our photo into memory. We start with #6 for kicks, this is P3_06.png\n",
    "img <- readPNG(paste(mdir,photolist[6], sep=''))"
   ]
  },
  {
   "cell_type": "markdown",
   "metadata": {},
   "source": [
    "We can then use **R**'s basic plot and raster imaging functions to show this photo, and assign axes in centimeters, from 0 to 100 cm, to match our actual 1-meter-square plots. "
   ]
  },
  {
   "cell_type": "code",
   "execution_count": 3,
   "metadata": {
    "collapsed": true
   },
   "outputs": [],
   "source": [
    "options(repr.plot.width = 5, repr.plot.height = 5) ## using repr to control size of R plotter outputs"
   ]
  },
  {
   "cell_type": "code",
   "execution_count": 5,
   "metadata": {
    "collapsed": false
   },
   "outputs": [],
   "source": [
    "plot(1, type = 'n', xlim = c(0,100), ylim = c(0,100), xlab = '', ylab = '')\n",
    "rasterImage(img, 0,0,100,100)"
   ]
  },
  {
   "cell_type": "markdown",
   "metadata": {},
   "source": [
    "<img src=P3_06_sampleplot.png>"
   ]
  },
  {
   "cell_type": "markdown",
   "metadata": {},
   "source": [
    "We need to digitize the photos for further analysis. We are interested in the spatial relationship between the *Mycena* mushrooms and the bunchgrasses. The mushroom events can probably be considered simple points, as they seem discrete and separate enough to delineate as points. We can examine them later for second-order-type relationships (clustering). The bunch grasses, however, are variable and large enough on this scale that we should probably digitize them as polygons. Each photo will have multiple polygons, each polygon representing one bunch of grass. \n",
    "\n",
    "For this, I will use the [sp package](https://cran.r-project.org/web/packages/sp/index.html), to create a spatial polygons object for each photo. I coded a small function to facilitate the process. Very primitive, but it works. Still in **R**:"
   ]
  },
  {
   "cell_type": "code",
   "execution_count": null,
   "metadata": {
    "collapsed": true
   },
   "outputs": [],
   "source": [
    "digpols <- function() {\n",
    "        require('sp')\n",
    "        iter <- 1\n",
    "        an <- 'y'\n",
    "        grasspols <- NULL\n",
    "        allpols <- list()\n",
    "        while (an != 'n') {\n",
    "                grass <- locator()\n",
    "                grasspols <- Polygon(rbind(cbind(grass$x, grass$y), cbind(grass$x[1],grass$y[1])))\n",
    "                bb <- Polygons(list(grasspols), ID = paste('grass',iter,sep=''))\n",
    "                allpols[[iter]] <- bb\n",
    "                plot(SpatialPolygons(allpols), lwd=2, add=TRUE)\n",
    "                an <- readline(prompt = \"Another(y/n)? \")\n",
    "                if (an == 'y') { iter <- iter + 1 } else {break}}\n",
    "        cc <- SpatialPolygons(allpols)\n",
    "return(cc)\n",
    "}"
   ]
  },
  {
   "cell_type": "markdown",
   "metadata": {},
   "source": [
    "As long as the photo of the plot we are interested in is the current graphics object on display in R's plotter, we can use this function to digitize our bunch grasses:"
   ]
  },
  {
   "cell_type": "code",
   "execution_count": null,
   "metadata": {
    "collapsed": true
   },
   "outputs": [],
   "source": [
    "p3_06_grass <- digpols() "
   ]
  },
  {
   "cell_type": "markdown",
   "metadata": {
    "collapsed": true
   },
   "source": [
    "Using this I can draw polygons around the grasses. To aid in this, while drawing on the R plotter I also keep an image viewer open with the image that has good zoom capabilites (I use EOG on ubuntu). Here's an example:"
   ]
  },
  {
   "cell_type": "code",
   "execution_count": 2,
   "metadata": {
    "collapsed": false
   },
   "outputs": [],
   "source": [
    "plot(1, type = 'n', xlim = c(0,100), ylim = c(0,100), xlab = '', ylab = '')\n",
    "rasterImage(img, 0,0,100,100)\n",
    "p3_06_grass <- digpols() ## our homemade function above.\n",
    "\n",
    "## check our work:\n",
    "plot(1, type = 'n', xlim = c(0,100), ylim = c(0,100), xlab = '', ylab = '')\n",
    "rasterImage(img, 0,0,100,100)\n",
    "plot(p3_06_grass, lwd = 3, add = TRUE)"
   ]
  },
  {
   "cell_type": "markdown",
   "metadata": {},
   "source": [
    "![](p3_06_sample2.png)"
   ]
  },
  {
   "cell_type": "markdown",
   "metadata": {},
   "source": [
    "For our mushroom points, let's assign points to every cluster of mushrooms. First bring up our image of the plot, fresh. "
   ]
  },
  {
   "cell_type": "code",
   "execution_count": null,
   "metadata": {
    "collapsed": true
   },
   "outputs": [],
   "source": [
    "img <- readPNG(paste(mdir,photolist[6], sep=''))\n",
    "plot(1, type = 'n', xlim = c(0,100), ylim = c(0,100), xlab = '', ylab = '')\n",
    "rasterImage(img, 0,0,100,100)"
   ]
  },
  {
   "cell_type": "markdown",
   "metadata": {},
   "source": [
    "Use locator() to mark the locations of the mushrooms in the picture. Really helped here to have a good image viewer on the side to really zoom in and hunt for the mushrooms. "
   ]
  },
  {
   "cell_type": "code",
   "execution_count": null,
   "metadata": {
    "collapsed": true
   },
   "outputs": [],
   "source": [
    "mushpts_p3_06 <- locator()"
   ]
  },
  {
   "cell_type": "markdown",
   "metadata": {},
   "source": [
    "Then make this into a spatial points object:"
   ]
  },
  {
   "cell_type": "code",
   "execution_count": null,
   "metadata": {
    "collapsed": true
   },
   "outputs": [],
   "source": [
    "sp.mushpts_p3_06 <-SpatialPoints(cbind(mushpts_p3_06$x, mushpts_p3_06$y))\n",
    "plot(sp.mushpts_p3_06, pch = 17, cex = 2, lwd = 2, col='red', add=TRUE)"
   ]
  },
  {
   "cell_type": "markdown",
   "metadata": {},
   "source": [
    "![](p3_06_mush.png)"
   ]
  },
  {
   "cell_type": "markdown",
   "metadata": {},
   "source": [
    "Removing the photograph background, our digitized data look like this:"
   ]
  },
  {
   "cell_type": "code",
   "execution_count": null,
   "metadata": {
    "collapsed": true
   },
   "outputs": [],
   "source": [
    "plot(p3_06_grass, lwd = 3, add = FALSE)\n",
    "plot(sp.mushpts_p3_06, pch = 17, cex = 2, lwd = 2, col='red', add=TRUE)"
   ]
  },
  {
   "cell_type": "markdown",
   "metadata": {},
   "source": [
    "![](p3_06_sample_pols_mush.png)"
   ]
  },
  {
   "cell_type": "markdown",
   "metadata": {},
   "source": [
    "Now we save these as R data objects, for further analysis."
   ]
  },
  {
   "cell_type": "code",
   "execution_count": null,
   "metadata": {
    "collapsed": true
   },
   "outputs": [],
   "source": [
    "save(p3_06_grass, file = 'p3_06_grass.rda')\n",
    "save(sp.mushpts_p3_06, file = 'sp.mushpts_p3_06.rda')"
   ]
  },
  {
   "cell_type": "markdown",
   "metadata": {},
   "source": [
    "And that's the method for digitizing these photos! "
   ]
  }
 ],
 "metadata": {
  "kernelspec": {
   "display_name": "R 3.3",
   "language": "R",
   "name": "ir33"
  },
  "language_info": {
   "codemirror_mode": "r",
   "file_extension": ".r",
   "mimetype": "text/x-r-source",
   "name": "R",
   "pygments_lexer": "r",
   "version": "3.3.1"
  }
 },
 "nbformat": 4,
 "nbformat_minor": 0
}
